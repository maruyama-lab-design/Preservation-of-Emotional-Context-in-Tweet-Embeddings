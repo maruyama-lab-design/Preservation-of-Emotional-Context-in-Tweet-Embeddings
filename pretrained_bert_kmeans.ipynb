{
 "cells": [
  {
   "attachments": {},
   "cell_type": "markdown",
   "metadata": {},
   "source": [
    "# Data preparation"
   ]
  },
  {
   "cell_type": "code",
   "execution_count": 9,
   "metadata": {},
   "outputs": [],
   "source": [
    "from lib import *"
   ]
  },
  {
   "cell_type": "code",
   "execution_count": 10,
   "metadata": {},
   "outputs": [],
   "source": [
    "# reindex\n",
    "df_wrime_target = df_wrime_target.reset_index(drop=True)\n",
    "# df_wrime_target.info()"
   ]
  },
  {
   "cell_type": "code",
   "execution_count": 11,
   "metadata": {},
   "outputs": [],
   "source": [
    "sentences = df_wrime_target['Sentence'].tolist()\n",
    "\n",
    "# replace '\\n' with ''\n",
    "sentences = [sentence.replace('\\\\n', ' ') for sentence in sentences]\n",
    "# replace 'x000D' with ''\n",
    "sentences = [sentence.replace('x000D', ' ') for sentence in sentences]"
   ]
  },
  {
   "cell_type": "markdown",
   "metadata": {},
   "source": [
    "# Prepare embeddings of tweets based on emotional intensities. "
   ]
  },
  {
   "cell_type": "code",
   "execution_count": 12,
   "metadata": {},
   "outputs": [
    {
     "ename": "ModuleNotFoundError",
     "evalue": "No module named 'MeCab'",
     "output_type": "error",
     "traceback": [
      "\u001b[0;31m---------------------------------------------------------------------------\u001b[0m",
      "\u001b[0;31mModuleNotFoundError\u001b[0m                       Traceback (most recent call last)",
      "Cell \u001b[0;32mIn[12], line 27\u001b[0m\n\u001b[1;32m     25\u001b[0m \u001b[39melse\u001b[39;00m:\n\u001b[1;32m     26\u001b[0m     \u001b[39mif\u001b[39;00m flag \u001b[39m==\u001b[39m \u001b[39m\"\u001b[39m\u001b[39mword2vec\u001b[39m\u001b[39m\"\u001b[39m:\n\u001b[0;32m---> 27\u001b[0m         df_embeddings \u001b[39m=\u001b[39m make_embeddings_by_word2vec(sentences)\n\u001b[1;32m     28\u001b[0m     \u001b[39melse\u001b[39;00m:\n\u001b[1;32m     29\u001b[0m         df_embeddings \u001b[39m=\u001b[39m make_embeddings_by_bert(sentences, tokenizer, model, path_to_embeddings)\n",
      "File \u001b[0;32m/mnt/c/Users/osamu/Documents/GitHub/emotion/lib.py:120\u001b[0m, in \u001b[0;36mmake_embeddings_by_word2vec\u001b[0;34m(sentences)\u001b[0m\n\u001b[1;32m    119\u001b[0m \u001b[39mdef\u001b[39;00m \u001b[39mmake_embeddings_by_word2vec\u001b[39m(sentences):\n\u001b[0;32m--> 120\u001b[0m     \u001b[39mimport\u001b[39;00m \u001b[39mMeCab\u001b[39;00m\n\u001b[1;32m    122\u001b[0m     \u001b[39m# MeCabのインスタンスを作成\u001b[39;00m\n\u001b[1;32m    123\u001b[0m     mecab \u001b[39m=\u001b[39m MeCab\u001b[39m.\u001b[39mTagger()\n",
      "\u001b[0;31mModuleNotFoundError\u001b[0m: No module named 'MeCab'"
     ]
    }
   ],
   "source": [
    "import torch\n",
    "from transformers import AutoTokenizer, AutoModelForSequenceClassification\n",
    "\n",
    "flag = \"word2vec\" # \"fine_tuned\" # or \"pretrained\" # or \n",
    "\n",
    "# Load pretrained model/tokenizer. \n",
    "checkpoint = 'cl-tohoku/bert-base-japanese-whole-word-masking' # 'cl-tohoku/bert-base-japanese-v2'\n",
    "tokenizer = AutoTokenizer.from_pretrained(checkpoint)\n",
    "\n",
    "bert_embedding_path = \"embeddings\"\n",
    "if not os.path.isdir(bert_embedding_path):\n",
    "    os.makedirs(bert_embedding_path)\n",
    "\n",
    "if flag == \"pretrained\":\n",
    "    model = AutoModelForSequenceClassification.from_pretrained(checkpoint, output_hidden_states=True) # output_hidden_states=True allows us to access hidden states. \n",
    "    path_to_embeddings = os.path.join(bert_embedding_path, 'pretrained_embeddings.tsv')\n",
    "elif flag == \"fine_tuned\":\n",
    "    model = AutoModelForSequenceClassification.from_pretrained(\"trained_model\", output_hidden_states=True) # output_hidden_states=True allows us to access hidden states.\n",
    "    path_to_embeddings = os.path.join(bert_embedding_path, 'fine-tuned_embeddings.tsv')\n",
    "elif flag == \"word2vec\":\n",
    "    path_to_embeddings = os.path.join(bert_embedding_path, 'word2vec_embeddings.tsv')\n",
    "\n",
    "if os.path.isfile(path_to_embeddings):\n",
    "    df_embeddings = pd.read_table(path_to_embeddings, header=None)\n",
    "else:\n",
    "    if flag == \"word2vec\":\n",
    "        df_embeddings = make_embeddings_by_word2vec(sentences)\n",
    "    else:\n",
    "        df_embeddings = make_embeddings_by_bert(sentences, tokenizer, model, path_to_embeddings)"
   ]
  },
  {
   "attachments": {},
   "cell_type": "markdown",
   "metadata": {},
   "source": [
    "---"
   ]
  },
  {
   "attachments": {},
   "cell_type": "markdown",
   "metadata": {},
   "source": [
    "# K-means clustering by embeddings. "
   ]
  },
  {
   "cell_type": "code",
   "execution_count": null,
   "metadata": {},
   "outputs": [],
   "source": [
    "from sklearn.cluster import KMeans\n",
    "\n",
    "k = 6 # number of clusters\n",
    "kmeansModel = KMeans(n_clusters=k, random_state=0).fit(df_embeddings)\n",
    "\n",
    "# Cluster ID (0-based) for each tweet. \n",
    "clusters = kmeansModel.labels_\n",
    "# Cluster ID is 1-based. \n",
    "clusters = clusters + 1\n",
    "print(kmeansModel.labels_)\n",
    "print(len(kmeansModel.labels_))\n",
    "print(clusters)"
   ]
  },
  {
   "cell_type": "code",
   "execution_count": null,
   "metadata": {},
   "outputs": [],
   "source": [
    "# Load the intensity-based clusters\n",
    "_df = pd.read_csv('clusters/emotion_6_clusters.tsv', sep='\\t', header=None)\n",
    "# emotion_clusters = _df[0].tolist()\n",
    "# emotion_clusters = [int(x) for x in emotion_clusters]\n",
    "emotion_clusters = [int(x) for x in _df[0].tolist()]\n",
    "df_intensity_clusters = pd.DataFrame(emotion_clusters, columns=['labels'])\n",
    "df_intensity_clusters.info()"
   ]
  },
  {
   "cell_type": "markdown",
   "metadata": {},
   "source": [
    "## Comparison of the pretrain model embedding-based clusters with the intensity-based clusters. "
   ]
  },
  {
   "cell_type": "code",
   "execution_count": null,
   "metadata": {},
   "outputs": [],
   "source": [
    "df_clusters = pd.DataFrame(clusters, columns=['clusters'])\n",
    "conf_mat = confusion_matrix(df_intensity_clusters['labels'], df_clusters['clusters'], labels=list(set(emotion_clusters))) # confusion matrix\n",
    "conf_mat_norm_by_row = conf_mat.astype('float') / conf_mat.sum(axis=1)[:, np.newaxis] # Normalize the confusion matrix by row. \n",
    "conf_mat_norm_by_column = conf_mat.astype('float') / conf_mat.sum(axis=0)[:, np.newaxis] # Normalize the confusion matrix by row. \n",
    "\n",
    "# Heatmap of the confusion matrix\n",
    "plt.figure(figsize=(7, 5))\n",
    "sns.heatmap(conf_mat, annot=True, cmap='YlOrRd', fmt='g')\n",
    "plt.xlabel('Pretrained BERT-based cluster')\n",
    "plt.ylabel('Intensity-based cluster')\n",
    "plt.xticks(np.arange(len(set(emotion_clusters))) + 0.5, range(1, len(set(emotion_clusters)) + 1))\n",
    "plt.yticks(np.arange(len(set(emotion_clusters))) + 0.5, range(1, len(set(emotion_clusters)) + 1))\n",
    "plt.show()\n",
    "\n",
    "# Heatmap of the normalized confusion matrix\n",
    "plt.figure(figsize=(7, 5))\n",
    "sns.heatmap(conf_mat_norm_by_row, annot=True, cmap='YlOrRd', fmt='.3f', vmin=0, vmax=1)\n",
    "plt.xlabel('Pretrained BERT-based cluster')\n",
    "plt.ylabel('Intensity-based cluster')\n",
    "plt.xticks(np.arange(len(set(emotion_clusters))) + 0.5, range(1, len(set(emotion_clusters)) + 1))\n",
    "plt.yticks(np.arange(len(set(emotion_clusters))) + 0.5, range(1, len(set(emotion_clusters)) + 1))\n",
    "plt.show()\n",
    "\n",
    "# Heatmap of the normalized confusion matrix\n",
    "plt.figure(figsize=(7, 5))\n",
    "sns.heatmap(conf_mat_norm_by_column, annot=True, cmap='YlOrRd', fmt='.3f', vmin=0, vmax=1)\n",
    "plt.xlabel('Pretrained BERT-based cluster')\n",
    "plt.ylabel('Intensity-based cluster')\n",
    "plt.xticks(np.arange(len(set(emotion_clusters))) + 0.5, range(1, len(set(emotion_clusters)) + 1))\n",
    "plt.yticks(np.arange(len(set(emotion_clusters))) + 0.5, range(1, len(set(emotion_clusters)) + 1))\n",
    "plt.show()\n"
   ]
  },
  {
   "cell_type": "code",
   "execution_count": null,
   "metadata": {},
   "outputs": [],
   "source": [
    "# Rename cluster IDs\n",
    "\n",
    "clusters[clusters == 1] = -5 \n",
    "clusters[clusters == 2] = -2\n",
    "clusters[clusters == 3] = -1\n",
    "clusters[clusters == 4] = -4\n",
    "clusters[clusters == 5] = -3\n",
    "clusters[clusters == 6] = -6\n",
    "\n",
    "for id in range(1,7):\n",
    "    clusters[clusters == -id] = id\n",
    "print(clusters)"
   ]
  },
  {
   "cell_type": "code",
   "execution_count": null,
   "metadata": {},
   "outputs": [],
   "source": [
    "df_clusters = pd.DataFrame(clusters, columns=['clusters'])\n",
    "conf_mat = confusion_matrix(df_intensity_clusters['labels'], df_clusters['clusters'], labels=list(set(emotion_clusters))) # confusion matrix\n",
    "conf_mat_norm_by_row = conf_mat.astype('float') / conf_mat.sum(axis=1)[:, np.newaxis] # Normalize the confusion matrix by row. \n",
    "conf_mat_norm_by_column = conf_mat.astype('float') / conf_mat.sum(axis=0)[:, np.newaxis] # Normalize the confusion matrix by row. \n",
    "\n",
    "# Heatmap of the confusion matrix\n",
    "plt.figure(figsize=(7, 5))\n",
    "sns.heatmap(conf_mat, annot=True, cmap='YlOrRd', fmt='g')\n",
    "plt.xlabel('Pretrained BERT-based cluster')\n",
    "plt.ylabel('Intensity-based cluster')\n",
    "plt.xticks(np.arange(len(set(emotion_clusters))) + 0.5, range(1, len(set(emotion_clusters)) + 1))\n",
    "plt.yticks(np.arange(len(set(emotion_clusters))) + 0.5, range(1, len(set(emotion_clusters)) + 1))\n",
    "plt.show()\n",
    "\n",
    "# Heatmap of the normalized confusion matrix\n",
    "plt.figure(figsize=(7, 5))\n",
    "sns.heatmap(conf_mat_norm_by_row, annot=True, cmap='YlOrRd', fmt='.3f', vmin=0, vmax=1)\n",
    "plt.xlabel('Pretrained BERT-based cluster')\n",
    "plt.ylabel('Intensity-based cluster')\n",
    "plt.xticks(np.arange(len(set(emotion_clusters))) + 0.5, range(1, len(set(emotion_clusters)) + 1))\n",
    "plt.yticks(np.arange(len(set(emotion_clusters))) + 0.5, range(1, len(set(emotion_clusters)) + 1))\n",
    "plt.show()\n",
    "\n",
    "# Heatmap of the normalized confusion matrix\n",
    "plt.figure(figsize=(7, 5))\n",
    "sns.heatmap(conf_mat_norm_by_column, annot=True, cmap='YlOrRd', fmt='.3f', vmin=0, vmax=1)\n",
    "plt.xlabel('Pretrained BERT-based cluster')\n",
    "plt.ylabel('Intensity-based cluster')\n",
    "plt.xticks(np.arange(len(set(emotion_clusters))) + 0.5, range(1, len(set(emotion_clusters)) + 1))\n",
    "plt.yticks(np.arange(len(set(emotion_clusters))) + 0.5, range(1, len(set(emotion_clusters)) + 1))\n",
    "plt.show()"
   ]
  },
  {
   "cell_type": "code",
   "execution_count": null,
   "metadata": {},
   "outputs": [],
   "source": [
    "# setting Japanese font\n",
    "font_manager.fontManager.addfont('fonts/ipaexg.ttf')\n",
    "matplotlib.rc('font', family=\"IPAexGothic\")\n",
    "\n",
    "# frequency of each cluster\n",
    "cluster_IDs, counts = np.unique(clusters, return_counts=True) # cluster_IDs = [1, 2, 3, 4, 5, 6]\n",
    "\n",
    "colors = cmap(np.linspace(0, 1, len(cluster_IDs)))\n",
    "\n",
    "plt.figure(figsize=(8, 6))\n",
    "bars = plt.bar(cluster_IDs, counts, color=colors, alpha=0.7)\n",
    "plt.xlabel('Pretrained BERT-based cluster ID')\n",
    "plt.ylabel('count')\n",
    "# plt.title(f'Size of Pretrained BERT-based clusters')\n",
    "plt.xticks(cluster_IDs)\n",
    "\n",
    "# Display texts\n",
    "for bar in bars:\n",
    "    height = bar.get_height()\n",
    "    plt.text(bar.get_x() + bar.get_width() / 2, height, height, ha='center', va='bottom')\n",
    "\n",
    "plt.show()"
   ]
  },
  {
   "cell_type": "code",
   "execution_count": null,
   "metadata": {},
   "outputs": [],
   "source": [
    "# Similarity between tweets.\n",
    "\n",
    "from sklearn.metrics.pairwise import cosine_similarity\n",
    "\n",
    "target_index = 1 # find similar sentences to this sentence.\n",
    "\n",
    "df_wrime_target['similarity'] = cosine_similarity(df_embeddings[target_index:target_index+1], df_embeddings)[0]\n",
    "best3_similarity_sentence = df_wrime_target.sort_values('similarity', ascending=False)[['Sentence', 'similarity']].head(4)\n",
    "worst3_similarity_sentence = df_wrime_target.sort_values('similarity', ascending=True)[['Sentence', 'similarity']].head(3)\n",
    "\n",
    "for i, row in best3_similarity_sentence.iterrows():\n",
    "    print(f'index: {i}')\n",
    "    print(f'Tweet: {row[\"Sentence\"]}')\n",
    "    print(f'Similarity = {row[\"similarity\"]}')\n",
    "    print('---')\n",
    "\n",
    "for i, row in worst3_similarity_sentence.iterrows():\n",
    "    print(f'index: {i}')\n",
    "    print(f'Tweet: {row[\"Sentence\"]}')\n",
    "    print(f'Similarity = {row[\"similarity\"]}')\n",
    "    print('---')"
   ]
  },
  {
   "cell_type": "code",
   "execution_count": null,
   "metadata": {},
   "outputs": [],
   "source": [
    "df_wrime_features_tsne, df_wrime_features_umap = appy_dimensionality_reduction(df_embeddings, clusters)"
   ]
  },
  {
   "cell_type": "code",
   "execution_count": null,
   "metadata": {},
   "outputs": [],
   "source": [
    "# t-SNE plot of the pretrained BERT-based embeddings with intensity-based cluster labels. # 吉永君正しいですよね？\n",
    "plt.figure(figsize=(8, 6))\n",
    "plt.scatter(df_wrime_features_tsne[:, 0], df_wrime_features_tsne[:, 1], c=emotion_clusters, cmap=cmap_name, alpha=0.7)\n",
    "plt.xlabel('dim 1')\n",
    "plt.ylabel('dim 2')\n",
    "plt.title(f't-SNE (k={len(set(emotion_clusters))})')\n",
    "plt.colorbar()\n",
    "plt.show()"
   ]
  },
  {
   "cell_type": "code",
   "execution_count": null,
   "metadata": {},
   "outputs": [],
   "source": [
    "plt.figure(figsize=(8, 6))\n",
    "plt.scatter(df_wrime_features_umap[:, 0], df_wrime_features_umap[:, 1], c=emotion_clusters, cmap=cmap_name, alpha=0.7)\n",
    "plt.xlabel('dim 1')\n",
    "plt.ylabel('dim 2')\n",
    "plt.title(f't-SNE (k={len(set(emotion_clusters))})')\n",
    "plt.colorbar()\n",
    "plt.show()"
   ]
  },
  {
   "cell_type": "markdown",
   "metadata": {},
   "source": []
  },
  {
   "attachments": {},
   "cell_type": "markdown",
   "metadata": {},
   "source": [
    "# Finding the optimal cluster size"
   ]
  },
  {
   "cell_type": "code",
   "execution_count": null,
   "metadata": {},
   "outputs": [],
   "source": [
    "k_max=41"
   ]
  },
  {
   "cell_type": "code",
   "execution_count": null,
   "metadata": {},
   "outputs": [],
   "source": [
    "'''\n",
    "from sklearn.cluster import KMeans\n",
    "\n",
    "# Survey of optimal number of clusters by Elbow Method\n",
    "SSE = []\n",
    "for i in range(2, k_max):\n",
    "    kmeans_model = KMeans(n_clusters=i, random_state=0).fit(df_embeddings)\n",
    "    SSE.append(kmeans_model.inertia_)\n",
    "\n",
    "# 可視化\n",
    "plt.figure(figsize=(8, 6))\n",
    "plt.plot(range(2, k_max), SSE, marker='o', markersize=3)\n",
    "plt.xlabel('k')\n",
    "plt.xticks(np.arange(2, k_max, 1), fontsize=8)\n",
    "plt.ylabel('SSE')\n",
    "plt.title('Survey of optimal number of clusters by Elbow Method')\n",
    "plt.grid(True)\n",
    "plt.show()\n",
    "'''"
   ]
  },
  {
   "cell_type": "code",
   "execution_count": null,
   "metadata": {},
   "outputs": [],
   "source": [
    "'''\n",
    "from sklearn.cluster import KMeans\n",
    "from sklearn.metrics import silhouette_score\n",
    "\n",
    "# Survey of optimal number of clusters by Silhouette Coefficient\n",
    "silhouette_coefficients = []\n",
    "for i in range(2, k_max):\n",
    "    kmeans_model = KMeans(n_clusters=i, random_state=0).fit(df_embeddings)\n",
    "    silhouette_coefficient = silhouette_score(df_embeddings, kmeans_model.labels_) # シルエット係数の平均値\n",
    "    silhouette_coefficients.append(silhouette_coefficient)\n",
    "\n",
    "\n",
    "# 可視化\n",
    "plt.figure(figsize=(8, 6))\n",
    "plt.plot(range(2, k_max), silhouette_coefficients, marker='o', markersize=3)\n",
    "plt.xlabel('k')\n",
    "plt.xticks(np.arange(2, k_max, 1), fontsize=8)\n",
    "plt.ylabel('Silhouette Coefficient')\n",
    "plt.title('Survey of optimal number of clusters by Silhouette Coefficient')\n",
    "plt.grid(True)\n",
    "plt.show()\n",
    "'''"
   ]
  },
  {
   "attachments": {},
   "cell_type": "markdown",
   "metadata": {},
   "source": [
    "### Plot showing silhouette scores"
   ]
  },
  {
   "cell_type": "code",
   "execution_count": null,
   "metadata": {},
   "outputs": [],
   "source": [
    "from sklearn.metrics import silhouette_score\n",
    "from sklearn.metrics import silhouette_samples\n",
    "import matplotlib.cm as cm\n",
    "\n",
    "\n",
    "# データセット全体の平均シルエット係数を計算\n",
    "silhouette_avg = silhouette_score(df_embeddings, clusters)\n",
    "\n",
    "# 各サンプルのシルエット係数を計算\n",
    "silhouette_values = silhouette_samples(df_embeddings, clusters)\n",
    "\n",
    "# 可視化\n",
    "plt.figure(figsize=(8, 6))\n",
    "y_lower = 0\n",
    "for i, cluster in enumerate(cluster_IDs):\n",
    "    cluster_silhouette_values = silhouette_values[clusters == cluster]\n",
    "    cluster_silhouette_values.sort()\n",
    "    cluster_size = cluster_silhouette_values.shape[0]\n",
    "    y_upper = y_lower + cluster_size\n",
    "    plt.fill_betweenx(np.arange(y_lower, y_upper), 0, cluster_silhouette_values, facecolor=colors[i], edgecolor=colors[i], alpha=0.7)\n",
    "    plt.text(-0.05, y_lower + 0.5 * cluster_size, str(i+1))\n",
    "    y_lower = y_upper + 10\n",
    "\n",
    "# 平均シルエット係数を直線で表示\n",
    "plt.axvline(x=silhouette_avg, color=\"red\", linestyle=\"--\", alpha=0.5)\n",
    "plt.text(silhouette_avg + 0.01, -20, f\"average: {silhouette_avg:.3f}\", color=\"red\")\n",
    "\n",
    "plt.xlabel('Silhouette Coefficient')\n",
    "plt.ylabel('文章カテゴリ')\n",
    "plt.title(f'Silhouette Plot (k={k})')\n",
    "plt.show()"
   ]
  },
  {
   "cell_type": "code",
   "execution_count": null,
   "metadata": {},
   "outputs": [],
   "source": [
    "# The tweet with the highest silhouette coefficient in each intensity-based cluster\n",
    "for i, cluster in enumerate(cluster_IDs):\n",
    "    cluster_silhouette_values = silhouette_values[clusters == cluster]\n",
    "    cluster_silhouette_values.sort()\n",
    "    index = np.where(silhouette_values == cluster_silhouette_values[-1])[0][0]\n",
    "    print(f'Intensity-based cluster ID: {clusters[index]}')\n",
    "    print(f'The highest scored tweet: {df_wrime_target.iloc[index, 0]}')\n",
    "    print(f'Silhouette score: {cluster_silhouette_values[-1]:.3f}')\n",
    "    print('---')"
   ]
  },
  {
   "cell_type": "code",
   "execution_count": null,
   "metadata": {},
   "outputs": [],
   "source": [
    "# 特定の文章カテゴリのシルエット係数が高い上位5件を表示\n",
    "target_cluster = 5\n",
    "cluster_silhouette_values = silhouette_values[clusters == target_cluster]\n",
    "cluster_silhouette_values.sort()\n",
    "for i in range(5):\n",
    "    index = np.where(silhouette_values == cluster_silhouette_values[-i - 1])[0][0]\n",
    "    # print(f'文章カテゴリ: {clusters[index]}')\n",
    "    # print(f'シルエット係数が高い文章: {df_wrime_target.iloc[index, 0]}')\n",
    "    # print(f'シルエット係数: {cluster_silhouette_values[-i - 1]:.3f}')\n",
    "    # print('---')\n",
    "\n",
    "    print(f'Intensity-based cluster ID: {clusters[index]}')\n",
    "    print(f'The highest scored tweet: {df_wrime_target.iloc[index, 0]}')\n",
    "    print(f'Silhouette score: {cluster_silhouette_values[-1]:.3f}')\n",
    "    print('---')\n",
    "\n"
   ]
  },
  {
   "attachments": {},
   "cell_type": "markdown",
   "metadata": {},
   "source": [
    "### From the embeddings of tweets generated by the pretrained BERT model, infer the intensity-based cluster IDs"
   ]
  },
  {
   "cell_type": "code",
   "execution_count": null,
   "metadata": {},
   "outputs": [],
   "source": [
    "# df_wrime_target['Train/Dev/Test'], df_embeddings, df_intensity_clustersを結合\n",
    "df_embeddings_clusters = pd.concat([df_wrime_target['Train/Dev/Test'], df_embeddings, df_intensity_clusters], ignore_index=True, axis=1)\n",
    "# df_embeddings_clustersの最後の列を1引く\n",
    "df_embeddings_clusters.iloc[:, -1] = df_embeddings_clusters.iloc[:, -1] - 1\n",
    "\n",
    "df_embeddings_clusters"
   ]
  },
  {
   "cell_type": "code",
   "execution_count": null,
   "metadata": {},
   "outputs": [],
   "source": [
    "# divide into train and test\n",
    "df_groups = df_embeddings_clusters.groupby(0)\n",
    "df_train = df_groups.get_group('train')\n",
    "df_test = pd.concat([df_groups.get_group('dev'), df_groups.get_group('test')])\n",
    "print('train :', len(df_train))  # train : 17104\n",
    "print('test :', len(df_test))    # test : 1133"
   ]
  },
  {
   "cell_type": "code",
   "execution_count": null,
   "metadata": {},
   "outputs": [],
   "source": [
    "import xgboost as xgb\n",
    "\n",
    "# Make input data to xgboost\n",
    "train_data = df_train.drop([0, 769], axis=1).values\n",
    "train_labels = df_train[769].values\n",
    "\n",
    "test_data = df_test.drop([0, 769], axis=1).values\n",
    "test_labels = df_test[769].values\n",
    "\n",
    "train_data = xgb.DMatrix(train_data, label=train_labels)\n",
    "test_data = xgb.DMatrix(test_data, label=test_labels)"
   ]
  },
  {
   "cell_type": "code",
   "execution_count": null,
   "metadata": {},
   "outputs": [],
   "source": [
    "# Model\n",
    "params = {\n",
    "    'objective': 'multi:softmax',\n",
    "    'num_class': len(set(emotion_clusters)),\n",
    "    'eval_metric': 'mlogloss',\n",
    "    'verbosity': 0,\n",
    "    'seed': 0,\n",
    "    'max_depth': 1,\n",
    "    'eta': 0.5,\n",
    "}\n",
    "\n",
    "history = dict()\n",
    "\n",
    "# learning\n",
    "model = xgb.train(params, train_data, evals=[(train_data, 'train'), (test_data, 'test')], evals_result=history, num_boost_round=1000, early_stopping_rounds=50)\n",
    "\n",
    "# prediciton\n",
    "preds_labels = model.predict(test_data)\n",
    "\n",
    "# Visualization\n",
    "plt.plot(history['train']['mlogloss'], label='train')\n",
    "plt.plot(history['test']['mlogloss'], label='test')\n",
    "plt.xlabel('rounds')\n",
    "plt.ylabel('logloss')\n",
    "plt.title('XGBoost logloss')\n",
    "plt.legend()\n",
    "plt.show()"
   ]
  },
  {
   "cell_type": "code",
   "execution_count": null,
   "metadata": {},
   "outputs": [],
   "source": [
    "test_labels += 1\n",
    "preds_labels += 1"
   ]
  },
  {
   "cell_type": "code",
   "execution_count": null,
   "metadata": {},
   "outputs": [],
   "source": [
    "# from sklearn.metrics import confusion_matrix, classification_report\n",
    "# import seaborn as sns\n",
    "\n",
    "# 混同行列の作成\n",
    "cm = confusion_matrix(test_labels, preds_labels, labels=list(set(emotion_clusters)))\n",
    "\n",
    "# ヒートマップの描画\n",
    "plt.figure(figsize=(7, 5))\n",
    "sns.heatmap(cm, annot=True, cmap='YlOrRd', fmt='g')\n",
    "plt.xlabel('Predicted label')\n",
    "plt.ylabel('True label')\n",
    "plt.xticks(np.arange(len(set(emotion_clusters))) + 0.5, range(1, len(set(emotion_clusters)) + 1))\n",
    "plt.yticks(np.arange(len(set(emotion_clusters))) + 0.5, range(1, len(set(emotion_clusters)) + 1))\n",
    "plt.show()\n",
    "\n",
    "# Normalize the confusion matrix\n",
    "cm = cm.astype('float') / cm.sum(axis=1)[:, np.newaxis]\n",
    "\n",
    "# ヒートマップの描画\n",
    "plt.figure(figsize=(7, 5))\n",
    "sns.heatmap(cm, annot=True, cmap='YlOrRd', fmt='.3f', vmin=0, vmax=1)\n",
    "plt.xlabel('Predicted label')\n",
    "plt.xticks(np.arange(len(set(emotion_clusters))) + 0.5, range(1, len(set(emotion_clusters)) + 1))\n",
    "plt.yticks(np.arange(len(set(emotion_clusters))) + 0.5, range(1, len(set(emotion_clusters)) + 1))\n",
    "plt.ylabel('True label')\n",
    "plt.show()\n",
    "\n",
    "# 各クラスの適合率、再現率、F1スコアを算出\n",
    "print(classification_report(test_labels, preds_labels, digits=3))"
   ]
  },
  {
   "attachments": {},
   "cell_type": "markdown",
   "metadata": {},
   "source": [
    "k = 6  \n",
    "'cl-tohoku/bert-base-japanese-whole-word-masking' は accuracy 60%  \n",
    "'cl-tohoku/bert-base-japanese-v2' は accuracy 58.6%"
   ]
  },
  {
   "cell_type": "code",
   "execution_count": null,
   "metadata": {},
   "outputs": [],
   "source": [
    "# Indices of false predictions\n",
    "false_preds = np.where(test_labels != preds_labels)[0]\n",
    "\n",
    "# Show the first 5 false predictions\n",
    "for i in false_preds[10:15]:\n",
    "    print(df_wrime_target.iloc[i]['Sentence'])\n",
    "    print('True label:', test_labels[i])\n",
    "    print('Predicted label:', preds_labels[i])\n",
    "    print('---')"
   ]
  },
  {
   "attachments": {},
   "cell_type": "markdown",
   "metadata": {},
   "source": [
    "---"
   ]
  }
 ],
 "metadata": {
  "kernelspec": {
   "display_name": "bert_env",
   "language": "python",
   "name": "python3"
  },
  "language_info": {
   "codemirror_mode": {
    "name": "ipython",
    "version": 3
   },
   "file_extension": ".py",
   "mimetype": "text/x-python",
   "name": "python",
   "nbconvert_exporter": "python",
   "pygments_lexer": "ipython3",
   "version": "3.10.12"
  },
  "orig_nbformat": 4
 },
 "nbformat": 4,
 "nbformat_minor": 2
}
