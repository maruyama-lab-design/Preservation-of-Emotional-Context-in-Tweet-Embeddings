<<<<<<< Updated upstream
{
 "cells": [
  {
   "cell_type": "code",
   "execution_count": 1,
   "metadata": {},
   "outputs": [
    {
     "name": "stdout",
     "output_type": "stream",
     "text": [
      "0        0\n",
      "1        1\n",
      "2        0\n",
      "3        0\n",
      "4        1\n",
      "        ..\n",
      "43195    1\n",
      "43196    2\n",
      "43197    2\n",
      "43198    0\n",
      "43199    2\n",
      "Name: Avg. Readers_Joy, Length: 43200, dtype: int64\n",
      "0        [0, 2, 0, 0, 0, 0, 0, 0]\n",
      "1        [1, 0, 0, 2, 0, 0, 0, 0]\n",
      "2        [0, 0, 0, 1, 0, 0, 0, 0]\n",
      "3        [0, 1, 0, 0, 0, 0, 1, 0]\n",
      "4        [1, 0, 0, 1, 0, 0, 0, 0]\n",
      "                   ...           \n",
      "43195    [1, 0, 0, 1, 0, 0, 0, 0]\n",
      "43196    [2, 0, 2, 0, 0, 0, 0, 0]\n",
      "43197    [2, 0, 0, 0, 0, 0, 0, 0]\n",
      "43198    [0, 0, 2, 0, 0, 0, 0, 0]\n",
      "43199    [2, 0, 0, 0, 0, 0, 0, 1]\n",
      "Name: readers_emotion_intensities, Length: 43200, dtype: object\n",
      "---\n",
      "<class 'pandas.core.frame.DataFrame'>\n",
      "RangeIndex: 18237 entries, 0 to 18236\n",
      "Data columns (total 45 columns):\n",
      " #   Column                       Non-Null Count  Dtype \n",
      "---  ------                       --------------  ----- \n",
      " 0   Sentence                     18237 non-null  object\n",
      " 1   UserID                       18237 non-null  int64 \n",
      " 2   Datetime                     18237 non-null  object\n",
      " 3   Train/Dev/Test               18237 non-null  object\n",
      " 4   Writer_Joy                   18237 non-null  int64 \n",
      " 5   Writer_Sadness               18237 non-null  int64 \n",
      " 6   Writer_Anticipation          18237 non-null  int64 \n",
      " 7   Writer_Surprise              18237 non-null  int64 \n",
      " 8   Writer_Anger                 18237 non-null  int64 \n",
      " 9   Writer_Fear                  18237 non-null  int64 \n",
      " 10  Writer_Disgust               18237 non-null  int64 \n",
      " 11  Writer_Trust                 18237 non-null  int64 \n",
      " 12  Reader1_Joy                  18237 non-null  int64 \n",
      " 13  Reader1_Sadness              18237 non-null  int64 \n",
      " 14  Reader1_Anticipation         18237 non-null  int64 \n",
      " 15  Reader1_Surprise             18237 non-null  int64 \n",
      " 16  Reader1_Anger                18237 non-null  int64 \n",
      " 17  Reader1_Fear                 18237 non-null  int64 \n",
      " 18  Reader1_Disgust              18237 non-null  int64 \n",
      " 19  Reader1_Trust                18237 non-null  int64 \n",
      " 20  Reader2_Joy                  18237 non-null  int64 \n",
      " 21  Reader2_Sadness              18237 non-null  int64 \n",
      " 22  Reader2_Anticipation         18237 non-null  int64 \n",
      " 23  Reader2_Surprise             18237 non-null  int64 \n",
      " 24  Reader2_Anger                18237 non-null  int64 \n",
      " 25  Reader2_Fear                 18237 non-null  int64 \n",
      " 26  Reader2_Disgust              18237 non-null  int64 \n",
      " 27  Reader2_Trust                18237 non-null  int64 \n",
      " 28  Reader3_Joy                  18237 non-null  int64 \n",
      " 29  Reader3_Sadness              18237 non-null  int64 \n",
      " 30  Reader3_Anticipation         18237 non-null  int64 \n",
      " 31  Reader3_Surprise             18237 non-null  int64 \n",
      " 32  Reader3_Anger                18237 non-null  int64 \n",
      " 33  Reader3_Fear                 18237 non-null  int64 \n",
      " 34  Reader3_Disgust              18237 non-null  int64 \n",
      " 35  Reader3_Trust                18237 non-null  int64 \n",
      " 36  Avg. Readers_Joy             18237 non-null  int64 \n",
      " 37  Avg. Readers_Sadness         18237 non-null  int64 \n",
      " 38  Avg. Readers_Anticipation    18237 non-null  int64 \n",
      " 39  Avg. Readers_Surprise        18237 non-null  int64 \n",
      " 40  Avg. Readers_Anger           18237 non-null  int64 \n",
      " 41  Avg. Readers_Fear            18237 non-null  int64 \n",
      " 42  Avg. Readers_Disgust         18237 non-null  int64 \n",
      " 43  Avg. Readers_Trust           18237 non-null  int64 \n",
      " 44  readers_emotion_intensities  18237 non-null  object\n",
      "dtypes: int64(41), object(4)\n",
      "memory usage: 6.3+ MB\n",
      "None\n"
     ]
    }
   ],
   "source": [
    "from lib import * # wrime data is loaded here."
   ]
  },
  {
   "cell_type": "code",
   "execution_count": 2,
   "metadata": {},
   "outputs": [],
   "source": [
    "# import pandas as pd\n",
    "# df_wrime = pd.read_table('wrime-ver1.tsv')\n",
    "# df_wrime.info()"
   ]
  },
  {
   "cell_type": "code",
   "execution_count": 3,
   "metadata": {},
   "outputs": [],
   "source": [
    "# # Plutchik's eight primary emotions.\n",
    "# emotion_names = ['Joy', 'Sadness', 'Anticipation', 'Surprise', 'Anger', 'Fear', 'Disgust', 'Trust']\n",
    "\n",
    "# # Make a new column by making a list of mean over readers（\"Avg. Readers_*\"） \n",
    "# df_wrime['readers_emotion_intensities'] = df_wrime.apply(lambda x: [x['Avg. Readers_' + name] for name in emotion_names], axis=1)\n"
   ]
  },
  {
   "cell_type": "code",
   "execution_count": 4,
   "metadata": {},
   "outputs": [],
   "source": [
    "# print(df_wrime.columns)\n",
    "# print(len(df_wrime.columns))"
   ]
  },
  {
   "cell_type": "code",
   "execution_count": 5,
   "metadata": {},
   "outputs": [],
   "source": [
    "# # Tweets such that the maximum intensity of the eight primary emotions is more than 2 are selected.\n",
    "# is_target = df_wrime['readers_emotion_intensities'].map(lambda x: max(x) >= 2)\n",
    "# df_wrime_target = df_wrime[is_target]\n"
   ]
  },
  {
   "cell_type": "code",
   "execution_count": 2,
   "metadata": {},
   "outputs": [
    {
     "name": "stdout",
     "output_type": "stream",
     "text": [
      "                                                Sentence  UserID  \\\n",
      "0                         ぼけっとしてたらこんな時間｡チャリあるから食べにでたいのに…       1   \n",
      "1      今日の月も白くて明るい。昨日より雲が少なくてキレイな? と立ち止まる帰り道｡チャリなし生活も...       1   \n",
      "2                     早寝するつもりが飲み物がなくなりコンビニへ｡ん､今日、風が涼しいな。       1   \n",
      "3                                               眠い、眠れない。       1   \n",
      "4        ただいま? って新体操してるやん!外食する気満々で家に何もないのに!テレビから離れられない…!       1   \n",
      "...                                                  ...     ...   \n",
      "43195  真夜中にふと思い立ち、ノートPCを持って部屋を出て、ダイニングで仕事したらすんごい捗った。\\...      80   \n",
      "43196  ぐっどこんでぃしょん。\\n心も頭もクリア。\\n秋分の日のおかげかな？\\n人と自然としっとり過...      80   \n",
      "43197  朝から免許の更新へ。\\n90分で終わり、出口へ向かうと献血の呼びかけが。\\nみんな通り過ぎて...      80   \n",
      "43198  夜も更けて参りましたが、食後のコーヒーが飲みたいのでドリップ開始…\\n\\nぼんやり秋の夜長を...      80   \n",
      "43199  コーヒー休憩（kahavitauko）\\n\\nいつもの豆なのにすごく美味しくできた \\n\\n...      80   \n",
      "\n",
      "               Datetime Train/Dev/Test  Writer_Joy  Writer_Sadness  \\\n",
      "0      2012/07/31 23:48          train           0               1   \n",
      "1      2012/08/02 23:09          train           3               0   \n",
      "2      2012/08/05 00:50          train           1               1   \n",
      "3      2012/08/08 01:36          train           0               2   \n",
      "4      2012/08/09 22:24          train           2               1   \n",
      "...                 ...            ...         ...             ...   \n",
      "43195  2020/09/15 08:01          train           0               0   \n",
      "43196  2020/09/22 01:52          train           1               0   \n",
      "43197  2020/09/23 22:32          train           2               0   \n",
      "43198  2020/10/11 00:12          train           2               0   \n",
      "43199  2020/10/16 12:55          train           2               0   \n",
      "\n",
      "       Writer_Anticipation  Writer_Surprise  Writer_Anger  Writer_Fear  ...  \\\n",
      "0                        2                1             1            0  ...   \n",
      "1                        3                0             0            0  ...   \n",
      "2                        1                1             0            0  ...   \n",
      "3                        1                0             0            1  ...   \n",
      "4                        3                2             0            1  ...   \n",
      "...                    ...              ...           ...          ...  ...   \n",
      "43195                    1                0             0            0  ...   \n",
      "43196                    1                0             0            0  ...   \n",
      "43197                    2                1             0            0  ...   \n",
      "43198                    1                0             0            0  ...   \n",
      "43199                    1                0             0            0  ...   \n",
      "\n",
      "       Reader3_Trust  Avg. Readers_Joy  Avg. Readers_Sadness  \\\n",
      "0                  0                 0                     2   \n",
      "1                  1                 1                     0   \n",
      "2                  0                 0                     0   \n",
      "3                  0                 0                     1   \n",
      "4                  0                 1                     0   \n",
      "...              ...               ...                   ...   \n",
      "43195              0                 1                     0   \n",
      "43196              0                 2                     0   \n",
      "43197              0                 2                     0   \n",
      "43198              0                 0                     0   \n",
      "43199              2                 2                     0   \n",
      "\n",
      "       Avg. Readers_Anticipation  Avg. Readers_Surprise  Avg. Readers_Anger  \\\n",
      "0                              0                      0                   0   \n",
      "1                              0                      2                   0   \n",
      "2                              0                      1                   0   \n",
      "3                              0                      0                   0   \n",
      "4                              0                      1                   0   \n",
      "...                          ...                    ...                 ...   \n",
      "43195                          0                      1                   0   \n",
      "43196                          2                      0                   0   \n",
      "43197                          0                      0                   0   \n",
      "43198                          2                      0                   0   \n",
      "43199                          0                      0                   0   \n",
      "\n",
      "       Avg. Readers_Fear  Avg. Readers_Disgust  Avg. Readers_Trust  \\\n",
      "0                      0                     0                   0   \n",
      "1                      0                     0                   0   \n",
      "2                      0                     0                   0   \n",
      "3                      0                     1                   0   \n",
      "4                      0                     0                   0   \n",
      "...                  ...                   ...                 ...   \n",
      "43195                  0                     0                   0   \n",
      "43196                  0                     0                   0   \n",
      "43197                  0                     0                   0   \n",
      "43198                  0                     0                   0   \n",
      "43199                  0                     0                   1   \n",
      "\n",
      "       readers_emotion_intensities  \n",
      "0         [0, 2, 0, 0, 0, 0, 0, 0]  \n",
      "1         [1, 0, 0, 2, 0, 0, 0, 0]  \n",
      "2         [0, 0, 0, 1, 0, 0, 0, 0]  \n",
      "3         [0, 1, 0, 0, 0, 0, 1, 0]  \n",
      "4         [1, 0, 0, 1, 0, 0, 0, 0]  \n",
      "...                            ...  \n",
      "43195     [1, 0, 0, 1, 0, 0, 0, 0]  \n",
      "43196     [2, 0, 2, 0, 0, 0, 0, 0]  \n",
      "43197     [2, 0, 0, 0, 0, 0, 0, 0]  \n",
      "43198     [0, 0, 2, 0, 0, 0, 0, 0]  \n",
      "43199     [2, 0, 0, 0, 0, 0, 0, 1]  \n",
      "\n",
      "[43200 rows x 45 columns]\n"
     ]
    }
   ],
   "source": [
    "print(df_wrime)"
   ]
  },
  {
   "cell_type": "code",
   "execution_count": 2,
   "metadata": {},
   "outputs": [
    {
     "name": "stdout",
     "output_type": "stream",
     "text": [
      "train : 17104\n",
      "test : 1133\n"
     ]
    }
   ],
   "source": [
    "# devide the whole dataset into train / test\n",
    "df_groups = df_wrime_target.groupby('Train/Dev/Test')\n",
    "df_train = df_groups.get_group('train')\n",
    "df_test = pd.concat([df_groups.get_group('dev'), df_groups.get_group('test')])\n",
    "print('train :', len(df_train))  # train : 17104\n",
    "print('test :', len(df_test))    # test : 1133\n"
   ]
  },
  {
   "cell_type": "code",
   "execution_count": 8,
   "metadata": {},
   "outputs": [],
   "source": [
    "# Install HuggingFace Transformers \n",
    "# - transformers \n",
    "# - datasets \n",
    "# cf. https://huggingface.co/docs/transformers/installation\n",
    "# ! pip install transformers datasets\n",
    "\n",
    "# Install fugashi and ipadic \n",
    "# ! pip install fugashi ipadic\n"
   ]
  },
  {
   "cell_type": "code",
   "execution_count": 3,
   "metadata": {},
   "outputs": [
    {
     "name": "stderr",
     "output_type": "stream",
     "text": [
      "/home/om/.miniconda3/envs/py310/lib/python3.10/site-packages/tqdm/auto.py:21: TqdmWarning: IProgress not found. Please update jupyter and ipywidgets. See https://ipywidgets.readthedocs.io/en/stable/user_install.html\n",
      "  from .autonotebook import tqdm as notebook_tqdm\n",
      "Some weights of BertForSequenceClassification were not initialized from the model checkpoint at cl-tohoku/bert-base-japanese-whole-word-masking and are newly initialized: ['classifier.weight', 'classifier.bias']\n",
      "You should probably TRAIN this model on a down-stream task to be able to use it for predictions and inference.\n"
     ]
    }
   ],
   "source": [
    "from transformers import AutoTokenizer, AutoModelForSequenceClassification\n",
    "\n",
    "# load a pre-trained model\n",
    "checkpoint = 'cl-tohoku/bert-base-japanese-whole-word-masking'\n",
    "tokenizer = AutoTokenizer.from_pretrained(checkpoint)\n",
    "model = AutoModelForSequenceClassification.from_pretrained(checkpoint, num_labels=8)\n"
   ]
  },
  {
   "cell_type": "code",
   "execution_count": 4,
   "metadata": {},
   "outputs": [
    {
     "name": "stderr",
     "output_type": "stream",
     "text": [
      "Map: 100%|██████████| 17104/17104 [00:03<00:00, 4814.71 examples/s]\n",
      "Map: 100%|██████████| 1133/1133 [00:00<00:00, 5342.86 examples/s]\n"
     ]
    }
   ],
   "source": [
    "import numpy as np\n",
    "from datasets import Dataset\n",
    "\n",
    "# 1.format change: pandas.DataFrame -> datasets.Dataset\n",
    "target_columns = ['Sentence', 'readers_emotion_intensities']\n",
    "train_dataset = Dataset.from_pandas(df_train[target_columns])\n",
    "test_dataset = Dataset.from_pandas(df_test[target_columns])\n",
    "\n",
    "# 2. apply Tokenizer\n",
    "def tokenize_function(batch):\n",
    "    \"\"\"Tokenizerを適用 （感情強度の正規化も同時に実施する）.\"\"\"\n",
    "    tokenized_batch = tokenizer(batch['Sentence'], truncation=True, padding='max_length')\n",
    "    tokenized_batch['labels'] = [x / np.sum(x) for x in batch['readers_emotion_intensities']]  # normalized\n",
    "    return tokenized_batch\n",
    "\n",
    "train_tokenized_dataset = train_dataset.map(tokenize_function, batched=True)\n",
    "test_tokenized_dataset = test_dataset.map(tokenize_function, batched=True)\n"
   ]
  },
  {
   "cell_type": "code",
   "execution_count": 5,
   "metadata": {},
   "outputs": [
    {
     "name": "stderr",
     "output_type": "stream",
     "text": [
      "/tmp/ipykernel_11972/617072238.py:6: FutureWarning: load_metric is deprecated and will be removed in the next major version of datasets. Use 'evaluate.load' instead, from the new library 🤗 Evaluate: https://huggingface.co/docs/evaluate\n",
      "  metric = load_metric(\"accuracy\")\n",
      "Failed to detect the name of this notebook, you can set it manually with the WANDB_NOTEBOOK_NAME environment variable to enable code saving.\n",
      "\u001b[34m\u001b[1mwandb\u001b[0m: Currently logged in as: \u001b[33mosamu-maruyama-9999\u001b[0m (\u001b[33mmaruyama-lab-design\u001b[0m). Use \u001b[1m`wandb login --relogin`\u001b[0m to force relogin\n"
     ]
    },
    {
     "data": {
      "text/html": [
       "wandb version 0.17.9 is available!  To upgrade, please run:\n",
       " $ pip install wandb --upgrade"
      ],
      "text/plain": [
       "<IPython.core.display.HTML object>"
      ]
     },
     "metadata": {},
     "output_type": "display_data"
    },
    {
     "data": {
      "text/html": [
       "Tracking run with wandb version 0.15.9"
      ],
      "text/plain": [
       "<IPython.core.display.HTML object>"
      ]
     },
     "metadata": {},
     "output_type": "display_data"
    },
    {
     "data": {
      "text/html": [
       "Run data is saved locally in <code>/mnt/c/Users/osamu/Documents/GitHub/emotion/wandb/run-20240906_104222-brjmtptd</code>"
      ],
      "text/plain": [
       "<IPython.core.display.HTML object>"
      ]
     },
     "metadata": {},
     "output_type": "display_data"
    },
    {
     "data": {
      "text/html": [
       "Syncing run <strong><a href='https://wandb.ai/maruyama-lab-design/huggingface/runs/brjmtptd' target=\"_blank\">clean-eon-3</a></strong> to <a href='https://wandb.ai/maruyama-lab-design/huggingface' target=\"_blank\">Weights & Biases</a> (<a href='https://wandb.me/run' target=\"_blank\">docs</a>)<br/>"
      ],
      "text/plain": [
       "<IPython.core.display.HTML object>"
      ]
     },
     "metadata": {},
     "output_type": "display_data"
    },
    {
     "data": {
      "text/html": [
       " View project at <a href='https://wandb.ai/maruyama-lab-design/huggingface' target=\"_blank\">https://wandb.ai/maruyama-lab-design/huggingface</a>"
      ],
      "text/plain": [
       "<IPython.core.display.HTML object>"
      ]
     },
     "metadata": {},
     "output_type": "display_data"
    },
    {
     "data": {
      "text/html": [
       " View run at <a href='https://wandb.ai/maruyama-lab-design/huggingface/runs/brjmtptd' target=\"_blank\">https://wandb.ai/maruyama-lab-design/huggingface/runs/brjmtptd</a>"
      ],
      "text/plain": [
       "<IPython.core.display.HTML object>"
      ]
     },
     "metadata": {},
     "output_type": "display_data"
    },
    {
     "data": {
      "text/html": [
       "\n",
       "    <div>\n",
       "      \n",
       "      <progress value='2138' max='2138' style='width:300px; height:20px; vertical-align: middle;'></progress>\n",
       "      [2138/2138 12:49:25, Epoch 1/1]\n",
       "    </div>\n",
       "    <table border=\"1\" class=\"dataframe\">\n",
       "  <thead>\n",
       " <tr style=\"text-align: left;\">\n",
       "      <th>Step</th>\n",
       "      <th>Training Loss</th>\n",
       "      <th>Validation Loss</th>\n",
       "      <th>Accuracy</th>\n",
       "    </tr>\n",
       "  </thead>\n",
       "  <tbody>\n",
       "    <tr>\n",
       "      <td>200</td>\n",
       "      <td>No log</td>\n",
       "      <td>0.277081</td>\n",
       "      <td>0.581642</td>\n",
       "    </tr>\n",
       "    <tr>\n",
       "      <td>400</td>\n",
       "      <td>No log</td>\n",
       "      <td>0.249603</td>\n",
       "      <td>0.622242</td>\n",
       "    </tr>\n",
       "    <tr>\n",
       "      <td>600</td>\n",
       "      <td>0.304000</td>\n",
       "      <td>0.235353</td>\n",
       "      <td>0.664607</td>\n",
       "    </tr>\n",
       "    <tr>\n",
       "      <td>800</td>\n",
       "      <td>0.304000</td>\n",
       "      <td>0.224553</td>\n",
       "      <td>0.706973</td>\n",
       "    </tr>\n",
       "    <tr>\n",
       "      <td>1000</td>\n",
       "      <td>0.263200</td>\n",
       "      <td>0.214347</td>\n",
       "      <td>0.728155</td>\n",
       "    </tr>\n",
       "    <tr>\n",
       "      <td>1200</td>\n",
       "      <td>0.263200</td>\n",
       "      <td>0.219932</td>\n",
       "      <td>0.718447</td>\n",
       "    </tr>\n",
       "    <tr>\n",
       "      <td>1400</td>\n",
       "      <td>0.263200</td>\n",
       "      <td>0.211464</td>\n",
       "      <td>0.748455</td>\n",
       "    </tr>\n",
       "    <tr>\n",
       "      <td>1600</td>\n",
       "      <td>0.248500</td>\n",
       "      <td>0.208695</td>\n",
       "      <td>0.737864</td>\n",
       "    </tr>\n",
       "    <tr>\n",
       "      <td>1800</td>\n",
       "      <td>0.248500</td>\n",
       "      <td>0.206068</td>\n",
       "      <td>0.753751</td>\n",
       "    </tr>\n",
       "    <tr>\n",
       "      <td>2000</td>\n",
       "      <td>0.240900</td>\n",
       "      <td>0.205352</td>\n",
       "      <td>0.763460</td>\n",
       "    </tr>\n",
       "  </tbody>\n",
       "</table><p>"
      ],
      "text/plain": [
       "<IPython.core.display.HTML object>"
      ]
     },
     "metadata": {},
     "output_type": "display_data"
    },
    {
     "data": {
      "text/html": [
       "\n",
       "    <div>\n",
       "      \n",
       "      <progress value='142' max='142' style='width:300px; height:20px; vertical-align: middle;'></progress>\n",
       "      [142/142 11:47]\n",
       "    </div>\n",
       "    "
      ],
      "text/plain": [
       "<IPython.core.display.HTML object>"
      ]
     },
     "metadata": {},
     "output_type": "display_data"
    },
    {
     "name": "stdout",
     "output_type": "stream",
     "text": [
      "{'eval_loss': 0.20462995767593384, 'eval_accuracy': 0.7616946160635482, 'eval_runtime': 712.5019, 'eval_samples_per_second': 1.59, 'eval_steps_per_second': 0.199, 'epoch': 1.0}\n"
     ]
    },
    {
     "ename": "AttributeError",
     "evalue": "'Trainer' object has no attribute 'metrics'",
     "output_type": "error",
     "traceback": [
      "\u001b[0;31m---------------------------------------------------------------------------\u001b[0m",
      "\u001b[0;31mAttributeError\u001b[0m                            Traceback (most recent call last)",
      "Cell \u001b[0;32mIn[5], line 34\u001b[0m\n\u001b[1;32m     31\u001b[0m \u001b[38;5;66;03m# Evaluation\u001b[39;00m\n\u001b[1;32m     32\u001b[0m \u001b[38;5;28mprint\u001b[39m(trainer\u001b[38;5;241m.\u001b[39mevaluate())\n\u001b[0;32m---> 34\u001b[0m \u001b[38;5;28mprint\u001b[39m(\u001b[43mtrainer\u001b[49m\u001b[38;5;241;43m.\u001b[39;49m\u001b[43mmetrics\u001b[49m)\n",
      "\u001b[0;31mAttributeError\u001b[0m: 'Trainer' object has no attribute 'metrics'"
     ]
    },
    {
     "name": "stderr",
     "output_type": "stream",
     "text": [
      "wandb: Network error (ConnectionError), entering retry loop.\n"
     ]
    }
   ],
   "source": [
    "from transformers import TrainingArguments, Trainer\n",
    "from datasets import load_metric\n",
    "\n",
    "# Evaluation Metrics\n",
    "# https://huggingface.co/docs/transformers/training\n",
    "metric = load_metric(\"accuracy\")\n",
    "def compute_metrics(eval_pred):\n",
    "    logits, labels = eval_pred\n",
    "    predictions = np.argmax(logits, axis=-1)\n",
    "    label_ids = np.argmax(labels, axis=-1)\n",
    "    return metric.compute(predictions=predictions, references=label_ids)\n",
    "\n",
    "# Training arguments\n",
    "# https://huggingface.co/docs/transformers/v4.21.1/en/main_classes/trainer#transformers.TrainingArguments\n",
    "training_args = TrainingArguments(\n",
    "    output_dir=\"test_trainer\",\n",
    "    per_device_train_batch_size=8,\n",
    "    num_train_epochs=1.0,\n",
    "    evaluation_strategy=\"steps\", eval_steps=200)  # evaluate the test data at every 200 steps. \n",
    "\n",
    "trainer = Trainer(\n",
    "    model=model,\n",
    "    args=training_args,\n",
    "    train_dataset=train_tokenized_dataset,\n",
    "    eval_dataset=test_tokenized_dataset,\n",
    "    compute_metrics=compute_metrics,\n",
    ")\n",
    "\n",
    "# Training\n",
    "trainer.train()\n",
    "# Evaluation\n",
    "print(trainer.evaluate())\n",
    "\n",
    "### print(trainer.metrics)"
   ]
  },
  {
   "cell_type": "code",
   "execution_count": null,
   "metadata": {},
   "outputs": [],
   "source": [
    "import os\n",
    "_dir = os.path.join(\"output\", \"trained_model\")\n",
    "if not os.path.isdir(_dir):\n",
    "    os.makedirs(_dir)\n",
    "trainer.save_model(_dir)"
   ]
  },
  {
   "cell_type": "code",
   "execution_count": null,
   "metadata": {},
   "outputs": [],
   "source": [
    "emotion_names_jp = ['喜び', '悲しみ', '期待', '驚き', '怒り', '恐れ', '嫌悪', '信頼'] \n",
    "import matplotlib.pyplot as plt\n",
    "import seaborn as sns\n",
    "\n",
    "# sns.set(font='IPAexGothic')\n",
    "\n",
    "import matplotlib\n",
    "from matplotlib import font_manager\n",
    "\n",
    "font_manager.fontManager.addfont(\"/usr/share/fonts/opentype/ipaexfont-gothic/ipaexg.ttf\")\n",
    "matplotlib.rc('font', family=\"IPAexGothic\")\n",
    "\n",
    "\n",
    "# Softmax function\n",
    "# https://www.delftstack.com/ja/howto/numpy/numpy-softmax/\n",
    "def np_softmax(x):\n",
    "    f_x = np.exp(x) / np.sum(np.exp(x))\n",
    "    return f_x\n",
    "\n",
    "def analyze_emotion(text, show_fig=False):\n",
    "    model.eval()\n",
    "\n",
    "    tokens = tokenizer(text, truncation=True, return_tensors=\"pt\")\n",
    "    tokens.to(model.device)\n",
    "    preds = model(**tokens)\n",
    "    prob = np_softmax(preds.logits.cpu().detach().numpy()[0])\n",
    "    out_dict = {n: p for n, p in zip(emotion_names_jp, prob)}\n",
    "\n",
    "    if show_fig:\n",
    "        plt.figure(figsize=(8, 3))\n",
    "        df = pd.DataFrame(out_dict.items(), columns=['name', 'prob'])\n",
    "        sns.barplot(x='name', y='prob', data=df)\n",
    "        plt.title('Input sentence: ' + text, fontsize=15)\n",
    "    else:\n",
    "        print(out_dict)\n",
    "\n",
    "\n"
   ]
  },
  {
   "cell_type": "code",
   "execution_count": null,
   "metadata": {},
   "outputs": [],
   "source": [
    "analyze_emotion('今日から長期休暇だぁーーー！！！', show_fig=True)"
   ]
  },
  {
   "cell_type": "code",
   "execution_count": null,
   "metadata": {},
   "outputs": [],
   "source": [
    "analyze_emotion('この書類にはコーヒーかかってなくて良かった…。不幸中の幸いだ。', show_fig=True)"
   ]
  },
  {
   "cell_type": "code",
   "execution_count": null,
   "metadata": {},
   "outputs": [],
   "source": [
    "\n",
    "analyze_emotion('なんで自分だけこんな目に遭うんだ……', show_fig=True)"
   ]
  },
  {
   "cell_type": "code",
   "execution_count": null,
   "metadata": {},
   "outputs": [],
   "source": [
    "analyze_emotion('君ならきっとやってくれると思っていたよ！', show_fig=True)"
   ]
  },
  {
   "cell_type": "code",
   "execution_count": null,
   "metadata": {},
   "outputs": [],
   "source": [
    "analyze_emotion('え、今日って休校だったの？', show_fig=True)"
   ]
  },
  {
   "cell_type": "code",
   "execution_count": null,
   "metadata": {},
   "outputs": [],
   "source": [
    "analyze_emotion('明日のプレゼンうまくできるかなぁ…', show_fig=True)"
   ]
  },
  {
   "cell_type": "code",
   "execution_count": null,
   "metadata": {},
   "outputs": [],
   "source": [
    "analyze_emotion('あぁー、イライラするっ！！', show_fig=True)"
   ]
  }
 ],
 "metadata": {
  "kernelspec": {
   "display_name": "Python 3.8.10 64-bit",
   "language": "python",
   "name": "python3"
  },
  "language_info": {
   "codemirror_mode": {
    "name": "ipython",
    "version": 3
   },
   "file_extension": ".py",
   "mimetype": "text/x-python",
   "name": "python",
   "nbconvert_exporter": "python",
   "pygments_lexer": "ipython3",
   "version": "3.10.12"
  },
  "orig_nbformat": 4,
  "vscode": {
   "interpreter": {
    "hash": "916dbcbb3f70747c44a77c7bcd40155683ae19c65e1c03b4aa3499c5328201f1"
   }
  }
 },
 "nbformat": 4,
 "nbformat_minor": 2
}
=======
{
 "cells": [
  {
   "cell_type": "code",
   "execution_count": 41,
   "metadata": {},
   "outputs": [],
   "source": [
    "from lib import * # wrime data is loaded here."
   ]
  },
  {
   "cell_type": "code",
   "execution_count": 42,
   "metadata": {},
   "outputs": [],
   "source": [
    "# import pandas as pd\n",
    "# df_wrime = pd.read_table('wrime-ver1.tsv')\n",
    "# df_wrime.info()"
   ]
  },
  {
   "cell_type": "code",
   "execution_count": 43,
   "metadata": {},
   "outputs": [],
   "source": [
    "# # Plutchik's eight primary emotions.\n",
    "# emotion_names = ['Joy', 'Sadness', 'Anticipation', 'Surprise', 'Anger', 'Fear', 'Disgust', 'Trust']\n",
    "\n",
    "# # Make a new column by making a list of mean over readers（\"Avg. Readers_*\"） \n",
    "# df_wrime['readers_emotion_intensities'] = df_wrime.apply(lambda x: [x['Avg. Readers_' + name] for name in emotion_names], axis=1)\n"
   ]
  },
  {
   "cell_type": "code",
   "execution_count": 44,
   "metadata": {},
   "outputs": [],
   "source": [
    "# print(df_wrime.columns)\n",
    "# print(len(df_wrime.columns))"
   ]
  },
  {
   "cell_type": "code",
   "execution_count": 45,
   "metadata": {},
   "outputs": [],
   "source": [
    "# # Tweets such that the maximum intensity of the eight primary emotions is more than 2 are selected.\n",
    "# is_target = df_wrime['readers_emotion_intensities'].map(lambda x: max(x) >= 2)\n",
    "# df_wrime_target = df_wrime[is_target]\n"
   ]
  },
  {
   "cell_type": "code",
   "execution_count": 46,
   "metadata": {},
   "outputs": [
    {
     "name": "stdout",
     "output_type": "stream",
     "text": [
      "                                                Sentence  UserID  \\\n",
      "0                         ぼけっとしてたらこんな時間｡チャリあるから食べにでたいのに…       1   \n",
      "1      今日の月も白くて明るい。昨日より雲が少なくてキレイな? と立ち止まる帰り道｡チャリなし生活も...       1   \n",
      "2                     早寝するつもりが飲み物がなくなりコンビニへ｡ん､今日、風が涼しいな。       1   \n",
      "3                                               眠い、眠れない。       1   \n",
      "4        ただいま? って新体操してるやん!外食する気満々で家に何もないのに!テレビから離れられない…!       1   \n",
      "...                                                  ...     ...   \n",
      "43195  真夜中にふと思い立ち、ノートPCを持って部屋を出て、ダイニングで仕事したらすんごい捗った。\\...      80   \n",
      "43196  ぐっどこんでぃしょん。\\n心も頭もクリア。\\n秋分の日のおかげかな？\\n人と自然としっとり過...      80   \n",
      "43197  朝から免許の更新へ。\\n90分で終わり、出口へ向かうと献血の呼びかけが。\\nみんな通り過ぎて...      80   \n",
      "43198  夜も更けて参りましたが、食後のコーヒーが飲みたいのでドリップ開始…\\n\\nぼんやり秋の夜長を...      80   \n",
      "43199  コーヒー休憩（kahavitauko）\\n\\nいつもの豆なのにすごく美味しくできた \\n\\n...      80   \n",
      "\n",
      "               Datetime Train/Dev/Test  Writer_Joy  Writer_Sadness  \\\n",
      "0      2012/07/31 23:48          train           0               1   \n",
      "1      2012/08/02 23:09          train           3               0   \n",
      "2      2012/08/05 00:50          train           1               1   \n",
      "3      2012/08/08 01:36          train           0               2   \n",
      "4      2012/08/09 22:24          train           2               1   \n",
      "...                 ...            ...         ...             ...   \n",
      "43195  2020/09/15 08:01          train           0               0   \n",
      "43196  2020/09/22 01:52          train           1               0   \n",
      "43197  2020/09/23 22:32          train           2               0   \n",
      "43198  2020/10/11 00:12          train           2               0   \n",
      "43199  2020/10/16 12:55          train           2               0   \n",
      "\n",
      "       Writer_Anticipation  Writer_Surprise  Writer_Anger  Writer_Fear  ...  \\\n",
      "0                        2                1             1            0  ...   \n",
      "1                        3                0             0            0  ...   \n",
      "2                        1                1             0            0  ...   \n",
      "3                        1                0             0            1  ...   \n",
      "4                        3                2             0            1  ...   \n",
      "...                    ...              ...           ...          ...  ...   \n",
      "43195                    1                0             0            0  ...   \n",
      "43196                    1                0             0            0  ...   \n",
      "43197                    2                1             0            0  ...   \n",
      "43198                    1                0             0            0  ...   \n",
      "43199                    1                0             0            0  ...   \n",
      "\n",
      "       Reader3_Trust  Avg. Readers_Joy  Avg. Readers_Sadness  \\\n",
      "0                  0                 0                     2   \n",
      "1                  1                 1                     0   \n",
      "2                  0                 0                     0   \n",
      "3                  0                 0                     1   \n",
      "4                  0                 1                     0   \n",
      "...              ...               ...                   ...   \n",
      "43195              0                 1                     0   \n",
      "43196              0                 2                     0   \n",
      "43197              0                 2                     0   \n",
      "43198              0                 0                     0   \n",
      "43199              2                 2                     0   \n",
      "\n",
      "       Avg. Readers_Anticipation  Avg. Readers_Surprise  Avg. Readers_Anger  \\\n",
      "0                              0                      0                   0   \n",
      "1                              0                      2                   0   \n",
      "2                              0                      1                   0   \n",
      "3                              0                      0                   0   \n",
      "4                              0                      1                   0   \n",
      "...                          ...                    ...                 ...   \n",
      "43195                          0                      1                   0   \n",
      "43196                          2                      0                   0   \n",
      "43197                          0                      0                   0   \n",
      "43198                          2                      0                   0   \n",
      "43199                          0                      0                   0   \n",
      "\n",
      "       Avg. Readers_Fear  Avg. Readers_Disgust  Avg. Readers_Trust  \\\n",
      "0                      0                     0                   0   \n",
      "1                      0                     0                   0   \n",
      "2                      0                     0                   0   \n",
      "3                      0                     1                   0   \n",
      "4                      0                     0                   0   \n",
      "...                  ...                   ...                 ...   \n",
      "43195                  0                     0                   0   \n",
      "43196                  0                     0                   0   \n",
      "43197                  0                     0                   0   \n",
      "43198                  0                     0                   0   \n",
      "43199                  0                     0                   1   \n",
      "\n",
      "       readers_emotion_intensities  \n",
      "0         [0, 2, 0, 0, 0, 0, 0, 0]  \n",
      "1         [1, 0, 0, 2, 0, 0, 0, 0]  \n",
      "2         [0, 0, 0, 1, 0, 0, 0, 0]  \n",
      "3         [0, 1, 0, 0, 0, 0, 1, 0]  \n",
      "4         [1, 0, 0, 1, 0, 0, 0, 0]  \n",
      "...                            ...  \n",
      "43195     [1, 0, 0, 1, 0, 0, 0, 0]  \n",
      "43196     [2, 0, 2, 0, 0, 0, 0, 0]  \n",
      "43197     [2, 0, 0, 0, 0, 0, 0, 0]  \n",
      "43198     [0, 0, 2, 0, 0, 0, 0, 0]  \n",
      "43199     [2, 0, 0, 0, 0, 0, 0, 1]  \n",
      "\n",
      "[43200 rows x 45 columns]\n"
     ]
    }
   ],
   "source": [
    "print(df_wrime)"
   ]
  },
  {
   "cell_type": "code",
   "execution_count": 47,
   "metadata": {},
   "outputs": [
    {
     "name": "stdout",
     "output_type": "stream",
     "text": [
      "train : 9118\n",
      "test : 9119\n"
     ]
    }
   ],
   "source": [
    "# # devide the whole dataset into train / test\n",
    "# df_groups = df_wrime_target.groupby('Train/Dev/Test')\n",
    "# df_train = df_groups.get_group('train')\n",
    "# df_test = pd.concat([df_groups.get_group('dev'), df_groups.get_group('test')])\n",
    "# print('train :', len(df_train))  # train : 17104\n",
    "# print('test :', len(df_test))    # test : 1133\n",
    "\n",
    "total_number_of_instances = len(df_wrime_target)\n",
    "half_number_of_instances = total_number_of_instances // 2\n",
    "df_train = df_wrime_target[:half_number_of_instances]\n",
    "df_test = df_wrime_target[half_number_of_instances:]\n",
    "\n",
    "# df_test = df_wrime_target[:half_number_of_instances]\n",
    "# df_train = df_wrime_target[half_number_of_instances:]\n",
    "\n",
    "k_fold_ID = 0\n",
    "print('train :', len(df_train))  # train : 9118\n",
    "print('test :', len(df_test))    # test : 9119\n"
   ]
  },
  {
   "cell_type": "code",
   "execution_count": 48,
   "metadata": {},
   "outputs": [],
   "source": [
    "# Install HuggingFace Transformers \n",
    "# - transformers \n",
    "# - datasets \n",
    "# cf. https://huggingface.co/docs/transformers/installation\n",
    "# ! pip install transformers datasets\n",
    "\n",
    "# Install fugashi and ipadic \n",
    "# ! pip install fugashi ipadic\n"
   ]
  },
  {
   "cell_type": "code",
   "execution_count": 49,
   "metadata": {},
   "outputs": [
    {
     "name": "stderr",
     "output_type": "stream",
     "text": [
      "/home/om/.miniconda3/envs/emotion/lib/python3.11/site-packages/huggingface_hub/file_download.py:1150: FutureWarning: `resume_download` is deprecated and will be removed in version 1.0.0. Downloads always resume when possible. If you want to force a new download, use `force_download=True`.\n",
      "  warnings.warn(\n",
      "Some weights of the model checkpoint at cl-tohoku/bert-base-japanese-whole-word-masking were not used when initializing BertForSequenceClassification: ['cls.predictions.transform.dense.bias', 'cls.predictions.bias', 'cls.predictions.transform.LayerNorm.bias', 'cls.seq_relationship.weight', 'cls.seq_relationship.bias', 'cls.predictions.transform.LayerNorm.weight', 'cls.predictions.decoder.weight', 'cls.predictions.transform.dense.weight']\n",
      "- This IS expected if you are initializing BertForSequenceClassification from the checkpoint of a model trained on another task or with another architecture (e.g. initializing a BertForSequenceClassification model from a BertForPreTraining model).\n",
      "- This IS NOT expected if you are initializing BertForSequenceClassification from the checkpoint of a model that you expect to be exactly identical (initializing a BertForSequenceClassification model from a BertForSequenceClassification model).\n",
      "Some weights of BertForSequenceClassification were not initialized from the model checkpoint at cl-tohoku/bert-base-japanese-whole-word-masking and are newly initialized: ['classifier.bias', 'classifier.weight']\n",
      "You should probably TRAIN this model on a down-stream task to be able to use it for predictions and inference.\n"
     ]
    }
   ],
   "source": [
    "from transformers import AutoTokenizer, AutoModelForSequenceClassification\n",
    "\n",
    "# load a pre-trained model\n",
    "checkpoint = 'cl-tohoku/bert-base-japanese-whole-word-masking'\n",
    "tokenizer = AutoTokenizer.from_pretrained(checkpoint)\n",
    "model = AutoModelForSequenceClassification.from_pretrained(checkpoint, num_labels=8)\n"
   ]
  },
  {
   "cell_type": "code",
   "execution_count": 50,
   "metadata": {},
   "outputs": [
    {
     "name": "stderr",
     "output_type": "stream",
     "text": [
      "                                                                 \r"
     ]
    }
   ],
   "source": [
    "import numpy as np\n",
    "from datasets import Dataset\n",
    "\n",
    "# 1.format change: pandas.DataFrame -> datasets.Dataset\n",
    "target_columns = ['Sentence', 'readers_emotion_intensities']\n",
    "train_dataset = Dataset.from_pandas(df_train[target_columns])\n",
    "test_dataset = Dataset.from_pandas(df_test[target_columns])\n",
    "\n",
    "# 2. apply Tokenizer\n",
    "def tokenize_function(batch):\n",
    "    \"\"\"Tokenizerを適用 （感情強度の正規化も同時に実施する）.\"\"\"\n",
    "    tokenized_batch = tokenizer(batch['Sentence'], truncation=True, padding='max_length')\n",
    "    tokenized_batch['labels'] = [x / np.sum(x) for x in batch['readers_emotion_intensities']]  # normalized\n",
    "    return tokenized_batch\n",
    "\n",
    "train_tokenized_dataset = train_dataset.map(tokenize_function, batched=True)\n",
    "test_tokenized_dataset = test_dataset.map(tokenize_function, batched=True)\n"
   ]
  },
  {
   "cell_type": "code",
   "execution_count": 51,
   "metadata": {},
   "outputs": [
    {
     "name": "stderr",
     "output_type": "stream",
     "text": [
      "Using the `WANDB_DISABLED` environment variable is deprecated and will be removed in v5. Use the --report_to flag to control the integrations used for logging result (for instance --report_to none).\n",
      "/home/om/.miniconda3/envs/emotion/lib/python3.11/site-packages/transformers/optimization.py:411: FutureWarning: This implementation of AdamW is deprecated and will be removed in a future version. Use the PyTorch implementation torch.optim.AdamW instead, or set `no_deprecation_warning=True` to disable this warning\n",
      "  warnings.warn(\n"
     ]
    },
    {
     "data": {
      "text/html": [
       "\n",
       "    <div>\n",
       "      \n",
       "      <progress value='1140' max='1140' style='width:300px; height:20px; vertical-align: middle;'></progress>\n",
       "      [1140/1140 27:56, Epoch 1/1]\n",
       "    </div>\n",
       "    <table border=\"1\" class=\"dataframe\">\n",
       "  <thead>\n",
       " <tr style=\"text-align: left;\">\n",
       "      <th>Step</th>\n",
       "      <th>Training Loss</th>\n",
       "      <th>Validation Loss</th>\n",
       "      <th>Accuracy</th>\n",
       "    </tr>\n",
       "  </thead>\n",
       "  <tbody>\n",
       "    <tr>\n",
       "      <td>200</td>\n",
       "      <td>No log</td>\n",
       "      <td>0.308562</td>\n",
       "      <td>0.497533</td>\n",
       "    </tr>\n",
       "    <tr>\n",
       "      <td>400</td>\n",
       "      <td>No log</td>\n",
       "      <td>0.279877</td>\n",
       "      <td>0.510363</td>\n",
       "    </tr>\n",
       "    <tr>\n",
       "      <td>600</td>\n",
       "      <td>0.305500</td>\n",
       "      <td>0.257801</td>\n",
       "      <td>0.589648</td>\n",
       "    </tr>\n",
       "    <tr>\n",
       "      <td>800</td>\n",
       "      <td>0.305500</td>\n",
       "      <td>0.253964</td>\n",
       "      <td>0.612786</td>\n",
       "    </tr>\n",
       "    <tr>\n",
       "      <td>1000</td>\n",
       "      <td>0.265000</td>\n",
       "      <td>0.245175</td>\n",
       "      <td>0.647659</td>\n",
       "    </tr>\n",
       "  </tbody>\n",
       "</table><p>"
      ],
      "text/plain": [
       "<IPython.core.display.HTML object>"
      ]
     },
     "metadata": {},
     "output_type": "display_data"
    },
    {
     "data": {
      "text/html": [
       "\n",
       "    <div>\n",
       "      \n",
       "      <progress value='1140' max='1140' style='width:300px; height:20px; vertical-align: middle;'></progress>\n",
       "      [1140/1140 03:26]\n",
       "    </div>\n",
       "    "
      ],
      "text/plain": [
       "<IPython.core.display.HTML object>"
      ]
     },
     "metadata": {},
     "output_type": "display_data"
    },
    {
     "name": "stdout",
     "output_type": "stream",
     "text": [
      "{'eval_loss': 0.24541805684566498, 'eval_accuracy': 0.6436012720693058, 'eval_runtime': 206.4156, 'eval_samples_per_second': 44.178, 'eval_steps_per_second': 5.523, 'epoch': 1.0}\n"
     ]
    }
   ],
   "source": [
    "from transformers import TrainingArguments, Trainer\n",
    "from datasets import load_metric\n",
    "\n",
    "import os\n",
    "os.environ[\"WANDB_DISABLED\"] = \"true\"\n",
    "\n",
    "# Evaluation Metrics\n",
    "# https://huggingface.co/docs/transformers/training\n",
    "metric = load_metric(\"accuracy\")\n",
    "def compute_metrics(eval_pred):\n",
    "    logits, labels = eval_pred\n",
    "    predictions = np.argmax(logits, axis=-1)\n",
    "    label_ids = np.argmax(labels, axis=-1)\n",
    "    return metric.compute(predictions=predictions, references=label_ids)\n",
    "\n",
    "# Training arguments\n",
    "# https://huggingface.co/docs/transformers/v4.21.1/en/main_classes/trainer#transformers.TrainingArguments\n",
    "training_args = TrainingArguments(\n",
    "    output_dir=\"test_trainer\",\n",
    "    per_device_train_batch_size=8,\n",
    "    num_train_epochs=1.0,\n",
    "    evaluation_strategy=\"steps\", eval_steps=200)  # evaluate the test data at every 200 steps. \n",
    "\n",
    "trainer = Trainer(\n",
    "    model=model,\n",
    "    args=training_args,\n",
    "    train_dataset=train_tokenized_dataset,\n",
    "    eval_dataset=test_tokenized_dataset,\n",
    "    compute_metrics=compute_metrics,\n",
    ")\n",
    "\n",
    "# Training\n",
    "trainer.train()\n",
    "# Evaluation\n",
    "print(trainer.evaluate())\n"
   ]
  },
  {
   "cell_type": "markdown",
   "metadata": {},
   "source": [
    "## 1st fold:\n",
    "{'eval_loss': 0.24541805684566498, 'eval_accuracy': 0.6436012720693058, 'eval_runtime': 206.4156, 'eval_samples_per_second': 44.178, 'eval_steps_per_second': 5.523, 'epoch': 1.0}\n",
    "\n",
    "## 2nd fold:\n",
    "{'eval_loss': 0.2621864974498749, 'eval_accuracy': 0.6282079403377934, 'eval_runtime': 201.4064, 'eval_samples_per_second': 45.272, 'eval_steps_per_second': 5.66, 'epoch': 1.0}"
   ]
  },
  {
   "cell_type": "code",
   "execution_count": 52,
   "metadata": {},
   "outputs": [],
   "source": [
    "import os\n",
    "_dir = os.path.join(\"output\", \"trained_model_\" + str(k_fold_ID))\n",
    "if not os.path.isdir(_dir):\n",
    "    os.makedirs(_dir)\n",
    "trainer.save_model(_dir)"
   ]
  },
  {
   "cell_type": "code",
   "execution_count": 53,
   "metadata": {},
   "outputs": [],
   "source": [
    "emotion_names_jp = ['喜び', '悲しみ', '期待', '驚き', '怒り', '恐れ', '嫌悪', '信頼'] \n",
    "import matplotlib.pyplot as plt\n",
    "import seaborn as sns\n",
    "\n",
    "# sns.set(font='IPAexGothic')\n",
    "\n",
    "import matplotlib\n",
    "from matplotlib import font_manager\n",
    "\n",
    "font_manager.fontManager.addfont(\"/usr/share/fonts/opentype/ipaexfont-gothic/ipaexg.ttf\")\n",
    "matplotlib.rc('font', family=\"IPAexGothic\")\n",
    "\n",
    "\n",
    "# Softmax function\n",
    "# https://www.delftstack.com/ja/howto/numpy/numpy-softmax/\n",
    "def np_softmax(x):\n",
    "    f_x = np.exp(x) / np.sum(np.exp(x))\n",
    "    return f_x\n",
    "\n",
    "def analyze_emotion(text, show_fig=False):\n",
    "    model.eval()\n",
    "\n",
    "    tokens = tokenizer(text, truncation=True, return_tensors=\"pt\")\n",
    "    tokens.to(model.device)\n",
    "    preds = model(**tokens)\n",
    "    prob = np_softmax(preds.logits.cpu().detach().numpy()[0])\n",
    "    out_dict = {n: p for n, p in zip(emotion_names_jp, prob)}\n",
    "\n",
    "    if show_fig:\n",
    "        plt.figure(figsize=(8, 3))\n",
    "        df = pd.DataFrame(out_dict.items(), columns=['name', 'prob'])\n",
    "        sns.barplot(x='name', y='prob', data=df)\n",
    "        plt.title('Input sentence: ' + text, fontsize=15)\n",
    "    else:\n",
    "        print(out_dict)\n",
    "\n",
    "\n"
   ]
  },
  {
   "cell_type": "code",
   "execution_count": 54,
   "metadata": {},
   "outputs": [
    {
     "data": {
      "image/png": "iVBORw0KGgoAAAANSUhEUgAAArEAAAE+CAYAAACa1Ei9AAAAOXRFWHRTb2Z0d2FyZQBNYXRwbG90bGliIHZlcnNpb24zLjcuMSwgaHR0cHM6Ly9tYXRwbG90bGliLm9yZy/bCgiHAAAACXBIWXMAAA9hAAAPYQGoP6dpAABWUElEQVR4nO3deVxN6eMH8M9tUUpljxZEKEL2LIUwNJVhZhpjl2WsM9+yRAYxzGSPEYMxEzIMMUSWwSiUYTAZu8jSakl0JaXl+f3h1fm57i2VdLt83q/Xeb3c5zznnOecdPvc5z7nOTIhhAARERERkQbRUncDiIiIiIiKiyGWiIiIiDQOQywRERERaRyGWCIiIiLSOAyxRERERKRxGGKJiIiISOMwxBIRERGRxmGIJSIiIiKNwxBLRKQm5fFZM8eOHcPZs2cVyg4dOoQrV6689b4vX76MzMxMpfKMjAzs2LEDd+/efetjlDVV50NEZUPGJ3YRkbo9evQIy5cvh66uLqZNmwY9PT11N0nJiRMn0KhRI5iampbK/vbv3w9vb29MnDgRw4cPh5GRUYn2k52djcTExGJtY2JigipVqqhc17VrV9SrVw8bNmyQymxsbPDll19izpw5AIB79+6p3FZPT6/A/ebl5aFmzZro2LEj9uzZo7Duzp07sLKyQlBQEIYPH16sc3l1H68zNTXFkydPkJWVpVBubGyMqlWrvnGfM2bMgEwmw/fff69y/bp167BkyRIcPnwYdevWLVG76e2tWrUK8fHxaNu2LT777LNS2ef8+fORnp6Ojz76CM7Ozm+9v+zsbMyaNQsA0L9/f7Rs2fKt90mAjrobQEQ0fvx47Ny5E3l5eUhISMC6deuKtf2ff/6J+Pj4Ym3TqlUrtGrVqkh18/Ly0KtXL3Tv3h179+4t1nEKkpOTA21tbXzzzTfw8/PD7NmzMWHCBOjq6hZrP9evX0ezZs2Ktc20adOwYMGCYm3zqtq1a6ss7969O44cOaJy3ZkzZ/Do0SN89NFHJT4uAMTGxiI7O1t6bWBggDp16sDKykqp7t69ezF//nycPn1aoXzChAkIDAws9DhCCKxduxbNmzdXWpeYmIjVq1fDx8cH27ZtQ/fu3XH69GlUq1athGdFb2Pr1q2IiorC2LFjSy3ErlmzBomJiahSpUqphFiZTIaFCxcCAFq2bMkQW0oYYj9A9erVw927d8vlV5kFEUIgMzMTFStWVHdTik2T214Wtm3bhu3bt8PPzw8VKlTAt99+i9atW2PMmDFF3kdAQAD+/PPPYh3Xz8+vyCH21q1beP78Odq2bVusYxSmT58+cHd3x759++Dj4wNvb2/8/PPPOH/+fLGDLABs2bIF/fr1K1JdHR3lt/779+/j8ePHyMjIQFpaGq5duyate/HiBVJSUnDt2jXUr18fADBy5Eh07txZqrN+/fpCj7lv3z4AgIuLS5HaWJDu3bsrDDvo0qULIiIipDb06tULAGBpaQkA2LVrl0JP7Jdfflmk41y9ehWpqano1q2b0rp79+5h1apVuH79OkJCQtC6dWssWLAAixcvLulp0VvI/+amNL/BKe196ujoQFtbG7m5ueXymyZNxRBL5V7+J+yVK1eia9eu6m5OsWhy28tCVFQURowYgbZt22LmzJnQ0dHBlStXMG7cOOTm5mL8+PFF3lfdunVVfqX8unv37hXYk1iQ/J48BwcHpXWXL1/Gr7/+isWLF0NL6823GWRmZiIyMhIODg6oVKkS3Nzc0KtXLyxZsgRpaWklCrAA8PDhwyKdf8WKFVV+9e3n54e1a9cCeNlrunv3boX1q1atwqpVq3D16lUAQOfOnRW++o+IiEBCQoLKY+bl5WHjxo1o3bo1GjRoULQTKkT+sIM5c+ZIARYAqlWrBgsLC4W6r/+s9fX1lfaXk5ODlJQUGBoawtDQEDk5OTh8+DAAwNDQEEFBQbh48SKaNGmCUaNGoXXr1ggLC0O3bt3QqlUrHDlyBHXq1Hnr86KSyf+ZqvrZlqd96unpISMjo1T3+aFjiKVy7/Dhw7h06ZK6m1Eimtz2d+38+fNwdXWFoaEhfvvtN6l3MH8s5oQJE/Dw4UPMmjWrSOHwXTpx4gR0dHTQoUMHCCEgk8mkdfv27cOyZcugp6eHH3744Y37unTpEnr27Illy5bB29sbAKCrqwtfX9+3auP//ve/ItVr3bq10o1bwMuvT9esWVOkMbHFdeTIEcTFxcHLywvJycm4fPmywvr79+8DAK5cuaJyOEL37t0Vrnlpi4+Pl3qYXzdlyhQAQPXq1RWucefOnTFv3jzUqlWrWME8JiYGu3fvxrhx40o8DpoUaUqI1dfXZ4gtZQyxRFTmdu3aheHDh0NfXx9Hjx5Fw4YNpXU6OjoIDg5GjRo1MGfOHBw7dgzBwcEwNzcvk7YlJSXh5MmTuHHjBmJjY3Hnzh2cPn0aOTk5MDY2hra2Nuzs7LBs2TI4OzvDx8cHV65cgb+/P1q2bAkPD49C95//oaaoQxmKKiQkBJ9//nmp7EvVcILXRUZGKry+efNmgX+clyxZAuDlWMA///wTnp6eKustXrxY5Vfy2dnZKodAvO7Zs2d48uSJQtnDhw8VhhO8fpMXANSsWROrV69GdnY2tLW1oaOjg4kTJ6JLly5YunQpGjRogEqVKiltN3369De26XXHjx/H9OnT8fXXXyuUv3jxAhUqVCj2/kgzhhO8q31+6DjFFklkMhmGDx8OuVyOyZMno06dOtDT00OjRo2wevVqpfobNmyATCbDwYMH8d9//8HNzQ0mJiYwMTGBu7s7zp8/r7TNnDlzIJPJFL4CzBcREQGZTKbQ21OvXj3MnTsXANCtWzfIZDLIZLI3fm16+fJluLq6okaNGjA2NoaTkxNCQkJU1g0KCkK7du1gaGgIIyMjdOvWDWFhYQWeb0REBM6cOQNXV1dUrlwZhoaG6NmzJ/777z+F+kVp+7NnzzB79mw0btwYenp6qFGjBr744guVvbfDhw+XeqO2bt2Ktm3bwsDAANWrV8ewYcPw6NEjlecXFRUFd3d3VKtWDQYGBmjSpAnmz5+v8o95SkoKvLy8UK9ePVSoUAFmZmYYOXIk4uLilOrm/yyLM0wiKysL06dPx6effgptbW2MGDEC0dHR2Lx5s8Ly22+/oXXr1pg5cyaio6PRrFkzrFixQmWYKm1///03PDw8MHPmTERERCAjIwPp6en44osv8Msvv2DZsmVISUmBu7u7NCvA6tWr0ahRI3h6eiI2NrbQ/V+6dAkymazUb+zw8PCQ/o8VtrRp0+aN+9q9ezdsbW2l5fbt20p19u3bhwULFkjLxYsXVe7rxIkT0lfzwMs7s5OTkxWWL774AgDQsGFDpXXJyclFCrAAMHjwYFSpUkVhhgR3d3dYWlpKy6lTp5S2MzQ0xLhx4/DNN99gwoQJaNKkCXJycjBkyBC0aNFCZYAtjtu3b+PKlSu4cuUKoqOjYWJigp07d8LPzw99+vRBjRo1FHq+qXg0qSe2tPf5oWNPLClITU1Fhw4dkJubi5EjR0Imk2H9+vWYMGECDA0NMWzYMKVtIiMjsWzZMri6umLu3Lm4ceMGfvnlFxw5cgT79+9XeWNEUX3//ffYunUr9u3bB29vbzRq1AgACr0LODk5GZ07d0b16tXh7e0NHR0dbN++HV988QVWrFiBb775Rqo7YsQIBAUFoWPHjpgxYwZevHiBLVu2wN3dHQsXLoSPj4/S/vfu3YuVK1fCzc0NM2fOlM63e/fuiImJkabueVPb5XI5unTpgv/++w+ff/45Ro8ejcTERAQFBWHv3r04ePAgunTponT86dOn48cff8Tw4cPx5Zdf4siRI9i0aRPi4uIQHh6uUDcoKAijR49GxYoV4enpibp16+LkyZOYNWsWDh06hL/++ksagxkfH4/OnTsjOTkZgwcPRtOmTRETE4NNmzZh9+7diIqKgo2NTXF+fAr++OMPTJ06Fbdu3cLQoUPxzTffvDFQffvtt/jvv//w9ddfw8vLCytWrMDmzZvRsWPHErfjTXr27ImTJ0+iefPmMDQ0xMqVK/H3339j5syZ0iwAjRo1gouLC0JCQuDl5QUDAwNs2rQJHTp0gLe3t9IUUq+6ePEirKysYGxsXKrtXrFiRZHu/C/KDYbDhg1TGk7wOn9/f4UxscOHD1caE5uXl4dp06YpHf/VNjx58kT60Hjjxg1cunQJPXr0KLR9ycnJuHbtGlJSUhTKFy5cCCcnJwBAhw4dAAC//PILnj59KtUpyjjr3bt3Q1tbG25ubgBefvjavXs3Tp8+jZiYGNy5cwdpaWl4/vw5dHR08Oeff6JFixYF7m/atGkICQmRhsXo6Ohg/vz5sLS0hLW1NebNm/fWszZ8yDQlcDLEvgOCPjh169YVqn70AAQA4ezsLLKysqTymzdvCm1tbdG+fXuF+kFBQQKAkMlk4pdfflFYFxERIWQymTAzMxPPnz+Xyv38/AQAER4ernT88PBwAUD4+fkplBe2jSqrV68WAMSpU6ekstzcXLFixQrx7NkzqWzjxo0CgJgyZYrIy8uTyjMzM0Xnzp2Ftra2uHr1qtL5AhDr169XOOacOXMEAPHTTz8Vue2enp5CS0tL7N69W6H89u3bombNmqJevXrixYsXUvmwYcMEAFGpUiURHR2tsE23bt0EAIX2xsTEiAoVKghTU1MRGxurUH/JkiVCS0tL7NmzR2EfBgYG4vTp0wp1z549KypWrCg6duyoUP7w4UNx9epVcffuXaVze93FixeFvr6+aNeunfjrr7/eWF+Vv/76S3z66afiyZMnSut69eol/WyKurz+/6wg7dq1Ew0bNlQoe/TokQAgxo0bp1A+cuRIAUAcOHCgwP3VqVNH9OrVS3r933//CR8fH2Fvby+qVKkiDAwMhI2NjfDx8RFJSUlvbN/FixcFABESElKk83mTLl26iL59+4qrV69Ki5WVlcL1AiCCgoIUths2bJjo3r27QllAQIAAID7//PMCfw+WLl0qatSoIQCIBg0aiC5duhTavvz3r/wlvz4AsWvXLqlefHy8wntPvgcPHojHjx8XeozX25GWliYACF1dXdG4cWPx8ccfi379+onPPvtMeHh4iMTExEL3l5OTI3Jzc4UQQvTr1094enpK6wIDA5XeAwoyZMgQ0bhx47daXv/9dnZ2fut9JiQkKOzzbffXuHHjIl2PfF5eXgKA0t+ht9G3b18BoMTvV6rY29sLAErvx1Ry7IklBbq6utiwYYPC2KwGDRqgcePGSjdj5HNzc8OIESMUyrp06YLPPvsMO3bswN69e984TrA05X/1+O+//6J9+/YAAC0tLYUeWABYvnw5KlWqhPHjxytNFv/VV18hMjISW7dulYYE5OvduzdGjhypUPbxxx9jzpw5BV6j16WmpmLTpk1wcnJC69atFXqwdHR08Nlnn+Gnn35CZGSkUk/2zJkzYW9vr1Dm4uKC8PBwXL58Weo1W716NV68eIF58+Yp3bQyadIkuLm5oXHjxgCACxcuIDw8HEOGDIGZmZlCe0xNTdGjRw/s3bsXt2/flubjrF69OqpXr16k87Wzs8Ply5dRv359XL9+XWk8ZWFkMhkcHBzg7Oxc6HyNVatWVfpZqfL06VPMmDGjSMe+fv06/vnnH3z33XcK5YaGhgCgMF8p8LL3fcuWLfDy8sLFixeVZhrIzc1FYmKiNBTB29sbO3bsgJmZGT755BMMGzYMQgicO3cOAQEB2LBhA44fPy79nPJ17doVx44dUygrye9Yp06dVP4sdu/erTQ7QXHl5eVh4cKFcHFxwciRI7Fjxw6lOo8fP8YPP/yAESNGYPHixRg/fjxmz56NDRs2FPrQg4JmJ3iVhYUFZsyYgaNHjyqts7Ozw9q1a6Gtra207tSpU4iNjcWkSZOkMmNjY8TExMDKyqrIQxte9epx0tLSoK2tjYULF+LSpUsICwtDjRo1EB0djVGjRinNrvCquLg4XL9+vdjHf1VGRobC69jY2Ld+Utrrvwdv28bi0pReU/bElj6GWFLg4OAgza/4qho1ahT42ElXV1eV5R999BF27NiBs2fPlmmIHTRoEFavXo3x48fj0KFDGDFiBHr37q0QKJ4/f47z589DCFHgXcnAy683X6fqXGrUqAEASE9PL1Ib//nnH+Tm5iIiIkLl9X71+K+H2KIePyoqCoDqn49MJlMIRidPngQABAcHIzg4uND2qJpUvijyr7Ofnx+2bdtWrG3HjRunclz2q4yMjDBx4sQ37uvevXtFDrG//vortLS0MGTIEIXy58+fA3g50f6rTE1NMXbsWGhra6ucUSEpKQm5ubm4desWWrRoAR0dHfz222/44osvlALViBEj0LNnT3h7e2P//v0K6zZt2iSFkRs3bqBPnz4Kwwlu3rwJd3d3LFq0CO7u7grbXrx4ETt37sSMGTNQuXJlledd2HCCvLw8AMC8efOwZs0aqTw2NlbhK3UtLS2sXLkSXbp0wblz51QeZ9asWRBCYPDgwVi8eDGqVq2KyZMnY/LkyejWrVuxn4L1+jy54eHh2Lt3rzRuHIA01ElVgAVe/g7o6Ogo/Z69evNhSR08eBAXL15EZmYmtLW1oauri4yMDIwbNw6HDh3CwoULsWHDBvTv31/l9gUF9rdRlGnZikuU8RzkmhI4GWJLH0MsKSjJVEYF3WmZP2/i48eP36pNxWVgYICoqCgsW7YMq1evxu7du2FmZobvv/9e6t1JTU2FEAK2trZYtGhRgfuqVauWUllh16iob975N2F98cUXSgHpVU2bNi3x8fOve82aNYvcnokTJ0qTxatS2Li/olq5cmWRnxa1atUqLFmypNAPGu/K8+fPpcnz69Wrp7Au/7Gr+R8eXrV48eICA1L+DXIHDhyAq6srNm3aVODjT52dnWFrayt9wHjVq3OS5uTkAADMzMyksGljY4OePXvi559/xjfffCP9joaFhWHEiBGoWbMmKlSoUKK5TfPHlzo6OiqMad68ebNS3cJmSwgLC8NPP/2EH3/8UWF8sK+vL7Zs2QI3NzdERUUVa+xwYGAgunfvLr22sbGBp6cnVqxYIfVyz5w5s8CnOmVlZUlP4FL1sy0pIQRmzJiBlStXQk9PD76+vvD19cVHH32EYcOGwdvbG97e3pg6dSqGDRsGBwcHPsa2GDRlJgHOTlD6GGLprRUU3NLS0gC8fE57vsLmesz/Y1waDAwMMHPmTPj6+iI0NBQ+Pj7w9PREXl4eRowYIbUpIyNDunmjLOX3gFWsWPGdHT8/HKWkpKgM46raU61atXd+PWrUqFGkgBAbG4vVq1ejbdu20nyqZSkoKAipqalKUyEB/99Dr2p+0IICLPDyA0jt2rXx0UcfYf369W/8ajorK6vEd8avWLECLVu2xPDhw/Hrr79ixowZWLFiBVxdXREcHKzUC6ujo4Pc3FwAwLFjx7Bx40aF9XPnzpUWAPjss88UennPnj1b4MMOXnflyhUMGjQIbdu2xZgxYxS209fXx+bNm+Hk5IS+fftiz549Rb4G5ubmSjeh9e/fH9OmTcPevXshk8mQmJioNBwo35YtW/Do0SOFoQy5ubk4dOgQOnbsqPBeVhzffvst1q9fj5MnT2LMmDHIzMzEn3/+ib///luhx3vy5MlYsmQJwsLCMGHChBId60OkKb2m7IktfZxii95aQVPr5I9Fa926tVSWP4YyNTVVqf6WLVtKvW3a2tr49NNPERkZCT09Paxbtw4AUKlSJTRv3hx3797FmTNnVG579uzZd/a1WLt27aCtrY19+/YpjVHLV1C7iir/kaCqpgsDoDAPaP7d/jt37lR5ztnZ2SqnTHtXMjMz0b9/f2hpaWHTpk2FBsN3dfzvv/8etra26N27t9L6/HGk+WOui6pDhw5ISEhAUFDQGwNsaGgobt68WeLZPWxtbbFq1Sr8/vvvqFOnDn799VesXbsWe/fuVTmM4PLly7h69SquXr2K3377Tfp3WFgYli9fLr22tbUFoLoXuihOnz6Nbt26QU9PDyEhISqvQ/v27REQEIDw8HB06dJFehhCvry8POTk5EhDG/LFxMTg1KlT0vLw4UOYm5tjzJgx+PbbbzF79my4ubmhefPmKtu2cuVKVKtWTWFYwunTp/Hxxx+X+Kv8ixcvYsGCBdi+fTuaN28OAwMD3LlzB8OHD8eyZctgZmYm1c3vdS7oPYFU8/LyghBCoRf+bS1fvhxCiFJ5wly+3bt3QwhR5u9n7zOGWHprq1evVpra6fTp09i4cSNq1qyJTz75RCrP/3r84MGDCvX37Nmj1POTL3/cYVGHJVy6dAkLFy5UCGNVqlSBjo6Owjyj+TdueHp64uHDhwr7iIiIQOfOnbF8+fIiHbMgBbW9Ro0aGDJkCFJSUjB69GipByyfv78/2rdvX+BYwqIYP3489PT08O2330qPCs0XGRmJ5s2bSzcstWzZEl27dsWlS5eUJnAXQuCbb75Bhw4dkJSUJJWnpKTg2rVrKueQfVtjx47FuXPnsGbNmrea1qukAgICkJSUhJkzZ0Imk2Hbtm3SkIv09HRs2bIFNjY2JRrmoKWl9cZvJFatWoUBAwagatWq8PPzK/YxsrOzERERAVdXVyxevBgpKSlo2rRpoUNFGjduDBsbG9y4cQODBg3C+fPnYWNjg/DwcEyZMgW3bt2CjY0Nbt68KdUvrrS0NLi4uCAzMxN79+4tdDz4+PHj8e233yImJkbpxqORI0dCV1cX8+bNUyj38/NDjx49pOXQoUMAXvYi3759GxcvXsSyZctUHu/QoUOIjo7G0KFDFb7udXBwgIWFBSZPnvzGOYBV2b59O1q2bCl9GKlWrRo2bdqEfv36YfTo0Qp18z9wFmUuX/p/Dx48QEJCQqkOXUtOTkZCQgLkcnmp7E8IgYSEBCQkJPBDSmkq6+kQSP0Km2KroOltunTporRN/pRTzs7OQkdHR/Tv318sWbJEjB07VlSoUEFUqFBBHDx4UGlfbdq0EQDE4MGDxdKlS8XgwYOFjo6O8PX1VTn10Z9//ikACHt7e7Fw4ULRrVs3kZaWVuD5+fj4SPXnz58vli5dKjp37iwAiBUrVijUHTt2rAAgatasKXx8fERAQIAYMmSI0NXVFe3btxfp6elK5/v61EJCvJwWC4AYNmxYkdsul8tFu3btBABhZ2cn5s+fLxYtWiS6d+8uAIiJEycq7Ct/iq3bt28rHb+gtm3evFno6OgIfX19MXr0aLF06VLx1VdfCX19fdG4cWPx8OFDqW58fLywtrYWAESHDh3EwoULxQ8//CDatGkjZDKZWLx4scK+86cPe9OUSMU1bdo0AUD873//K/I2pTnF1q1bt0TFihWFnZ2dNC1Sz549haGhoejTp4+wsbERAERgYOBbn+uLFy/E48ePxcWLF0VISIj4+uuvRa1atQQAYWNjI86dO/fGfeRPsfXdd9+JJUuWCDc3N2FkZCR0dHTEsWPHhBBChISECGNjY2FgYCCmTZtW4JRQCQkJolatWqJ9+/bSuefm5oru3buLypUri9jYWNG8eXPRqlUrpW1VTbGV78CBA9IUW6GhoQrT3wnx/78/qn63bty4ofC6bt26YuHCheLGjRvixo0b0vROeG2KrXx5eXli8uTJwsLCQjRs2FCMGzdOOrdXtW/fXmhra6v8/Tp69KjQ0dEROjo6wsHBQQwcOFB4enqKL7/8UvTq1Us0a9ZMHDp0SOW5T5gwQTRp0kT8/fff4ttvvxUVKlQQVlZWCtP6CSHEnj17RJUqVcRHH32ktI4K17p1a5Xvv2+jWrVqxZqK702ePn0qvfeo+n9OJcMQ+wEq7RAbFBQkwsPDhbOzszA0NBRGRkbi448/FmfOnFG5r3v37olBgwaJypUrC0NDQ9G1a1fx119/SX/IVL1peHl5iSpVqghTU1MxatQokZKSUug57t69W3Tv3l0YGxsLQ0ND0bJlS6W5XfNt375ddOnSRRgZGQkDAwNhZ2cnfvjhB5GZmVng+b6uoBD7prY/f/5cLFy4UDRr1kzo6+uLypUrC0dHR7F161al/ZQkxAohxOnTp0Xfvn1FtWrVhJ6enrC2thbTp09X+UHg8ePHYsaMGaJRo0aiQoUKolq1aqJXr17izz//VKr7LkLsrFmzBADRt29flUGjIL169RLVqlUTP//88xuXpUuXFvrHKTU1VYwYMUIcPnxYKrtw4YIYPHiwMDc3F5UqVRLjx48XOTk5b3u60ryR+YuWlpbo0KGD+Pnnn5X+/73ut99+E5MnTxadOnWStjcyMhKff/65CA4OFqmpqQr1ExMTxeDBg4WWlpbQ0dERH3/8sdixY4e0/s6dO6J+/frCxMREXLlyRWHbW7duiQ4dOoh169YJAGLRokVCCCEWLFgg/Pz8xMqVK0XDhg1F7969Vbb11RCrSmEh9nUNGjQQGzduVCpXFWJjY2OFm5ubaNCggbh9+7ZITEwUjRs3Fl26dBE3b96U6j169Ej06NFDDBgwoMDjXrhwQXz11VeiSZMmolKlSkJLS0tUrFhR1KpVS9jb2xd4bqdPnxaWlpaiSpUqok+fPmLmzJmiR48eQgghjh8/LsaOHSsaNWoktLW1xciRIxXmsqaiYYj9cDHEUokVFpyIiis/ILm4uKicpL4wvXr1EnXr1i1S3eTk5FL94/Q2jh49KmbNmiVWr14tjh49qhQ8C+Pm5iYMDAxE9+7dxXfffSeOHTum8JCSgty8eVN4e3sLMzMzhQ8nR44cESYmJuLEiRMFbjt8+HBRt25d6RuKkSNHSoGuatWqKj98CVG6IbYgr4fYc+fOCT09PTFgwACFD45paWnCw8NDbN++XWkf2dnZJT5+SSQmJgp3d3cxb948hVBNxRMRESF27dpVpG8uimr//v1i165dCg+QeRs5OTli165dYteuXUV6QAwVjUyIMp7Qjd4bGzZsgKenpzTxONHbEEJg69at+PzzzxUetlEUd+/eRVZWlvRo38Lk5OTg2rVrqFmzZpGmHyuvHj9+DENDw2Jfq8KkpqYWOOUXALx48QJXr14tlanWysL169dLNHaXiDQDp9gionJBJpNh4MCBJdq2OHNq6ujowM7OrkTHKU+qVKlS6vssLMACQIUKFTQmwAIlu/mMiDQHZycgIiIiIo3D4QREREREpHHYE0tEREREGochloiIiIg0zgd1Y1deXh6SkpJgZGRU6BNziIiIiEg9hBB4+vQpzMzMoKVVcH/rBxVik5KSCn3MIRERERGVD/Hx8bCwsChw/QcVYo2MjAC8vCjGxsZqbg0RERERvU4ul8PS0lLKbQX5oEJs/hACY2NjhlgiIiKicuxNQz95YxcRERERaRyGWCIiIiLSOAyxRERERKRxGGKJiIiISOMwxBIRERGRxmGIJSIiIiKNwxBLRERERBqHIZaIiIiINM4H9bADovKi08pO6m6CWkR9HaXuJhAR0XuCPbFEREREpHEYYomIiIhI4zDEEhEREZHGYYglIiIiIo3DEEtEREREGochloiIiIg0DkMsEREREWkchlgiIiIi0jgMsURERESkcRhiiYiIiEjjMMQSERERkcZhiCUiIiIijcMQS0REREQahyGWiIiIiDQOQywRERERaRy1htgNGzbAzs4OFhYWaNu2LSIjIwutv3LlSjRq1Ajm5uZo0qQJNmzYUDYNJSIiIqJyRUddBw4ODoavry+OHj0KW1tbhISEwNXVFdHR0ahfv75S/cWLFyMoKAh//vknrKys8M8//6B///7o0aMHLCws1HAGRERERKQuauuJnTt3LqZMmQJbW1sAgIeHB5ycnBAYGKhUVy6XY+7cuVi1ahWsrKwAAO3atcPNmzcZYImIiIg+QGoJsXFxcYiNjYW7u7tCubu7Ow4cOKBU/+jRo6hQoQK6du2qUK6trf0um0lERERE5ZRaQmxSUhIAwMzMTKHc3NwciYmJSvVv3rwJGxsb7Ny5E23atEG9evXg6uqKCxcuFHqcrKwsyOVyhYWIiIiINJ9aQqyuru7Lg2spHl4mk6msn5ubi+vXr2PPnj04cuQIYmJi0K1bNzg6OiIhIaHA4/j7+8PExERaLC0tS+8kiIiIiEht1BJi88ex5vfI5ktOToa5ublS/Tp16iArKwvr169H5cqVUaFCBUyZMgVmZmYIDQ0t8Di+vr5IS0uTlvj4+NI9ESIiIiJSC7WEWFNTU9jb22P//v0K5YcPH4aLi4tS/Q4dOkBLSws5OTlK6/T09Ao8jp6eHoyNjRUWIiIiItJ8apudwMfHB4sWLUJMTAwAIDQ0FAcOHMD48eOV6tarVw9ffPEFRowYgadPnyIvLw/Lly9HSkoK+vTpU9ZNJyIiIiI1U9s8sQMGDIBcLoebmxvS09NhYWGBsLAwWFtbIyEhAQ4ODggICICHhwcAIDAwENOnT0fjxo0hhEDTpk3x119/oWbNmuo6BSIiIiJSE5kQQqi7EWVFLpfDxMQEaWlpHFpAatVpZSd1N0Etor6OUncTiIionCtqXlPrY2eJiIiIiEqCIZaIiIiINA5DLBERERFpHIZYIiIiItI4DLFEREREpHEYYomIiIhI4zDEEhEREZHGYYglIiIiIo3DEEtEREREGochloiIiIg0DkMsEREREWkchlgiIiIi0jgMsURERESkcRhiiYiIiEjjMMQSERERkcZhiCUiIiIijcMQS0REREQahyGWiIiIiDQOQywRERERaRyGWCIiIiLSOAyxRERERKRxGGKJiIiISOOoNcRu2LABdnZ2sLCwQNu2bREZGVlgXXd3d1SrVg0WFhbS4ujoWIatJSIiIqLyQkddBw4ODoavry+OHj0KW1tbhISEwNXVFdHR0ahfv75S/YSEBGzduhUfffSRGlpLREREROWJ2npi586diylTpsDW1hYA4OHhAScnJwQGBqqsn5CQAEtLy7JsIhERERGVU2oJsXFxcYiNjYW7u7tCubu7Ow4cOKBUPysrCykpKbCwsCirJhIRERFROaaWEJuUlAQAMDMzUyg3NzdHYmKiUv2EhAQYGBhgzZo1aNmyJerXr49BgwYhLi6u0ONkZWVBLpcrLERERESk+dQSYnV1dV8eXEvx8DKZTGX9tLQ0VK9eHWZmZjh58iQuXryI6tWrw9nZGc+ePSvwOP7+/jAxMZEWDkcgIiIiej+oJcTmDwvI75HNl5ycDHNzc6X6rVq1wt27dzFo0CBUrFgRhoaGWLZsGe7du4cTJ04UeBxfX1+kpaVJS3x8fOmeCBERERGphVpCrKmpKezt7bF//36F8sOHD8PFxUXlNnl5eQqvhRDIy8srsPcWAPT09GBsbKywEBEREZHmU9vsBD4+Pli0aBFiYmIAAKGhoThw4ADGjx+vVPfEiROwsbHBmTNnAACZmZn43//+BwsLC3Tt2rUsm01ERERE5YDa5okdMGAA5HI53NzckJ6eDgsLC4SFhcHa2hoJCQlwcHBAQEAAPDw84OjoiBkzZmDMmDG4f/8+srKy4OjoiEOHDkFPT09dp0BEREREaiITQgh1N6KsyOVymJiYIC0tjUMLSK06reyk7iaoRdTXUepuAhERlXNFzWtqfewsEREREVFJMMQSERERkcZhiCUiIiIijcMQS0REREQahyGWiIiIiDQOQywRERERaRyGWCIiIiLSOAyxRERERKRxGGKJiIiISOMwxBIRERGRxmGIJSIiIiKNwxBLRERERBqHIZaIiIiINA5DLBERERFpHIZYIiIiItI4DLFEREREpHEYYomIiIhI4zDEEhEREZHGYYglIiIiIo3DEEtEREREGochloiIiIg0DkMsEREREWkchlgiIiIi0jhqDbEbNmyAnZ0dLCws0LZtW0RGRhZpOy8vL8hkMty5c+fdNpCIiIiIyiW1hdjg4GD4+voiJCQECQkJ8PHxgaurK27dulXodocOHUJERETZNJKIiIiIyiW1hdi5c+diypQpsLW1BQB4eHjAyckJgYGBBW6TkpKCESNGYO3atWXVTCIiIiIqh9QSYuPi4hAbGwt3d3eFcnd3dxw4cKDA7UaMGIEvvvgC7du3L9JxsrKyIJfLFRYiIiIi0nxqCbFJSUkAADMzM4Vyc3NzJCYmqtzmp59+wu3bt+Hv71/k4/j7+8PExERaLC0tS95oIiIiIio31BJidXV1Xx5cS/HwMplMZf2rV69ixowZ2Lx5M/T09Ip8HF9fX6SlpUlLfHx8yRtNREREROWGjjoOamFhAeBlj6y1tbVUnpycDHNzc4W62dnZGDhwIGbMmIEWLVoU6zh6enrFCr1EREREpBnU0hNramoKe3t77N+/X6H88OHDcHFxUShLTEzE+fPn4ePjA5lMJi0AYGVlhc6dO5dZu4mIiIiofFBLTywA+Pj4YOrUqejduzcaNWqE0NBQHDhwAOfOnVOoV69ePQghlLaXyWS4ffs26tWrV0YtJiIiIqLyQm0hdsCAAZDL5XBzc0N6ejosLCwQFhYGa2trJCQkwMHBAQEBAfDw8FBXE4mIiIionHrrEPvo0SNUq1atRNuOGTMGY8aMUSq3sLBAQkJCoduq6p0lIiIiog9DicbEvnjxAlOnToWJiQlq1qwJY2NjTJ06FS9evCjt9hERERERKSlRiPXx8cHhw4cRHByMy5cvY+vWrYiIiMD06dNLu31EREREREpKNJwgJCQE58+fR40aNQAANjY2cHBwgL29PZYtW1aqDSQiIiIiel2JemL19PSUxsFWrVoVOjpqu0+MiIiIiD4gJQqxY8eOxbfffqtQFhgYyJkEiIiIiKhMFLnrtFu3btJDBoQQ+Pvvv7Fnzx6YmpriyZMnuHTpEsaOHfvOGkpERERElK/IIbZr166Fvv7kk09Koz1ERERERG9U5BDr5+f3LttBRERERFRkJb4TKysrC7t27cKdO3dQt25d9O3bFxUrVizNthERERERqVSiEPvgwQN07twZqampqF+/Pm7fvo2ZM2ciMjIStWvXLu02EhEREREpKPHDDrp3747k5GT8888/SEpKwscff4wpU6aUdvuIiIiIiJSUqCf2+PHjiImJkeaF1dXVxbJly9CwYcNSbRwRERERkSol6onNy8uTptvK9/prIiIiIqJ3pUQh1snJCd988w1ycnIAvAy1U6ZMQceOHUu1cUREREREqpRoOMGSJUvQuXNnmJmZSTd2VapUCZGRkaXdPiIiIiIiJSUKsTVr1sSFCxewc+dO3L17F3Xq1MGnn34KAwOD0m4fEREREZGSEoXYKVOmYMmSJRg0aFBpt4eIiIiI6I1KNCb21KlTSEpKKu22EBEREREVSYl6Yjdu3Ag/Pz84OzvDwcEB2tra0ro6deqUWuOIiIiIiFQpUYjNnw/2l19+USiXyWTIzc19+1YRERERERWiRCH29u3bpd0OIiIiIqIiK9GY2Lp16+LSpUuYOHEi3NzcMGHCBPz333+oW7duabePiIiIiEhJiULsunXrMGjQIDRs2BATJkxA06ZNMXToUKxdu7ZY+9mwYQPs7OxgYWGBtm3bFjrPbFhYGNq1awcLCwvUq1cPo0aNwqNHj0rSfCIiIiLScCUaTrBo0SIcOXIEbdq0kcoGDx6Mfv36YcyYMUXaR3BwMHx9fXH06FHY2toiJCQErq6uiI6ORv369RXqRkZGYvjw4di1axccHR2Rnp6OoUOHYujQodi3b19JToGIiIiINFiJemIzMjIUAiwANGvWDFlZWUXex9y5czFlyhTY2toCADw8PODk5ITAwEClup07d8aFCxfg6OgIAKhUqRKGDBnCJ4QRERERfaBKFGJ79+6NP/74Q6EsIiICnTt3LtL2cXFxiI2Nhbu7u0K5u7s7Dhw4oHIbMzMz6d/Xr1/HkiVL0LVr1+I1nIiIiIjeCyUaTtC4cWN89dVXOHDgACwtLfHo0SNs2rQJQ4cOxXfffSfVmz17tsrt8x+U8GowBQBzc3MkJiYWeNzly5dj1qxZyM7OxujRozFv3rxC25mVlaXQOyyXy994bkRERERU/pWoJ/bgwYNo1qwZbt68ifDwcFy4cAH29va4cOECwsPDER4ejoiIiAK319XVfXlwLcXDy2SyQo/r5eWFtLQ0hIeHIzo6utBjAIC/vz9MTEykxdLSskjnR0RERETlW4l6YsPDw9/qoBYWFgBe9shaW1tL5cnJyTA3Ny90Wy0tLXTo0AGzZ8/GZ599htTUVCkUv87X1xeTJk2SXsvlcgZZIiIiovdAiXpi35apqSns7e2xf/9+hfLDhw/DxcVFqX5sbCyuXLmiUFa9enWkp6cjPT29wOPo6enB2NhYYSEiIiIizaeWEAsAPj4+WLRoEWJiYgAAoaGhOHDgAMaPH69UNzg4GH379sWlS5cAvOxR9fPzQ6dOnVClSpUybTcRERERqV+JhhOUhgEDBkAul8PNzQ3p6emwsLBAWFgYrK2tkZCQAAcHBwQEBMDDwwNz5sxBrVq1MGDAAKSmpkJbWxvdunXDunXr1NV8IiIiIlIjmRBCqLsRZUUul8PExARpaWkcWkBq1WllJ3U3QS2ivo5SdxOIiKicK2peU1tPbHnUeuomdTdBLc4tHqruJhAREREVi9rGxBIRERERlRRDLBERERFpHIZYIiIiItI4DLFEREREpHEYYomIiIhI4zDEEhEREZHGYYglIiIiIo3DEEtEREREGochloiIiIg0DkMsEREREWkchlgiIiIi0jgMsURERESkcRhiiYiIiEjjMMQSERERkcZhiCUiIiIijcMQS0REREQahyGWiIiIiDQOQywRERERaRyGWCIiIiLSOAyxRERERKRxGGKJiIiISOOoNcRu2LABdnZ2sLCwQNu2bREZGVlg3YSEBPTv3x+WlpawsLBA3759cefOnbJrLBERERGVG2oLscHBwfD19UVISAgSEhLg4+MDV1dX3Lp1S6ludnY2evTogXr16uHWrVu4e/cuGjZsiI8//hg5OTlqaD0RERERqZPaQuzcuXMxZcoU2NraAgA8PDzg5OSEwMBApbrXrl1D7dq1sWDBAujq6kJbWxuzZ8/G1atXceXKlbJuOhERERGpmVpCbFxcHGJjY+Hu7q5Q7u7ujgMHDijVb9asGcLDwyGTyaSyixcvAgCMjIzebWOJiIiIqNzRUcdBk5KSAABmZmYK5ebm5khMTHzj9ufOnYOHhweGDx8OKyurAutlZWUhKytLei2Xy0vYYiIiIiIqT9TSE6urq/vy4FqKh3+1p7UgP/74IxwdHTF8+HCsX7++0Lr+/v4wMTGRFktLy5I3moiIiIjKDbWEWAsLCwD/3yObLzk5Gebm5iq3ycvLw8iRIxEYGIjw8HB8//330NbWLvQ4vr6+SEtLk5b4+PjSOQEiIiIiUiu1hFhTU1PY29tj//79CuWHDx+Gi4uLym2mTp2KmJgYnD17Fu3bty/ScfT09GBsbKywEBEREZHmU8uYWADw8fHB1KlT0bt3bzRq1AihoaE4cOAAzp07p1T39OnT2LRpE65du8YgSkRERETqC7EDBgyAXC6Hm5sb0tPTYWFhgbCwMFhbWyMhIQEODg4ICAiAh4cHDh48iPT0dLRo0UJpP5MmTcKkSZPUcAZEREREpC4yIYRQdyPKilwuh4mJCdLS0lT26LaeukkNrVK/c4uHqrsJH5xOKzupuwlqEfV1lLqbQERE5dyb8lo+tT52loiIiIioJBhiiYiIiEjjMMQSERERkcZhiCUiIiIijcMQS0REREQahyGWiIiIiDQOQywRERERaRyGWCIiIiLSOAyxRERERKRxGGKJiIiISOMwxBIRERGRxmGIJSIiIiKNwxBLRERERBqHIZaIiIiINA5DLBERERFpHIZYIiIiItI4DLFEREREpHEYYomIiIhI4zDEEhEREZHGYYglIiIiIo3DEEtEREREGochloiIiIg0jlpD7IYNG2BnZwcLCwu0bdsWkZGRBdZ9+PAhNm7cCCcnJ1hZWZVhK4mIiIiovFFbiA0ODoavry9CQkKQkJAAHx8fuLq64tatWyrr9+zZEwcPHkSdOnUghCjj1hIRERFReaK2EDt37lxMmTIFtra2AAAPDw84OTkhMDBQZf3z589j69at6NGjR1k2k4iIiIjKIbWE2Li4OMTGxsLd3V2h3N3dHQcOHFBHk4iIiIhIg+io46BJSUkAADMzM4Vyc3NzJCYmltpxsrKykJWVJb2Wy+Wltm8iIiIiUh+19MTq6uq+PLiW4uFlMlmpHsff3x8mJibSYmlpWar7JyIiIiL1UEuItbCwAPD/PbL5kpOTYW5uXmrH8fX1RVpamrTEx8eX2r6JiIiISH3UEmJNTU1hb2+P/fv3K5QfPnwYLi4upXYcPT09GBsbKyxEREREpPnUNjuBj48PFi1ahJiYGABAaGgoDhw4gPHjx6urSURERESkIdRyYxcADBgwAHK5HG5ubkhPT4eFhQXCwsJgbW2NhIQEODg4ICAgAB4eHupqIhERERGVUzLxAT05QC6Xw8TEBGlpaSqHFrSeukkNrVK/c4uHqrsJH5xOKzupuwlqEfV1lLqbQERE5dyb8lo+tT52loiIiIioJBhiiYiIiEjjMMQSERERkcZhiCUiIiIijcMQS0REREQahyGWiIiIiDQOQywRERERaRyGWCIiIiLSOAyxRERERKRxGGKJiIiISOMwxBIRERGRxmGIJSIiIiKNwxBLRERERBqHIZaIiIiINA5DLBERERFpHIZYIiIiItI4DLFEREREpHEYYomIiIhI4zDEEhEREZHGYYglIiIiIo2jo+4GEBEV1TGnLupuglp0OX5M3U0gIip32BNLRERERBqHIZaIiIiINI5ahxNs2LABS5YswZMnT1C7dm0EBASgc+fOKusmJiZi0qRJOH36NLKzs/HFF19gwYIF0NPTK+NWExEREZWOOXPmqLsJalEa5622EBscHAxfX18cPXoUtra2CAkJgaurK6Kjo1G/fn2Fui9evEDPnj3h4uKC3377Denp6ejTpw+8vb2xevVqNZ0B5Yv7rpm6m6AWdWZfVHcTiIiIPlhqC7Fz587FlClTYGtrCwDw8PDApk2bEBgYiGXLlinU3b59O+7fvw9/f3/o6OigcuXKCAgIQMeOHfHdd9+hevXq6jgFIiJ6T30/+HN1N0Etvt28Q91NICoytYTYuLg4xMbGwt3dXaHc3d0dAQEBSiH26NGj6NWrFypUqCCVtW7dGtWqVcNff/2F/v37qzxOVlYWsrKypNdpaWkAALlcrrJ+btbzEp2PpivoehTV08zcUmqJZnmb65bzPKcUW6I53vb/2rMcXjcqG5nZ2epuglq8zf+164s/zFk0Gk99u1lTXs0pH5LC/q/lrxNCFL4ToQZ///23ACCePn2qUB4WFiaMjIyU6vfq1UtMnjxZqbxNmzZi6dKlBR7Hz89PAODChQsXLly4cOGiYUt8fHyheVItPbG6uroAAC0txckRZDJZgfVfr1tY/Xy+vr6YNGmS9DovLw+pqamoVq3aG7ctS3K5HJaWloiPj4exsbG6m6MxeN2Kj9esZHjdio/XrGR43YqP16xkyvN1E0Lg6dOnMDMzK7SeWkKshYUFACApKQnW1tZSeXJyMszNzVXWT0pKUiovqH4+PT09pdkLKleuXMJWv3vGxsbl7j+SJuB1Kz5es5LhdSs+XrOS4XUrPl6zkimv183ExOSNddQyT6ypqSns7e2xf/9+hfLDhw/DxcVFqX7v3r1x6NAh5LwyHu7atWt48OABunfv/s7bS0RERETli9oeduDj44NFixYhJiYGABAaGooDBw5g/PjxSnVdXV1Rs2ZNzJo1C7m5uUhLS8PEiRPh6enJmQmIiIiIPkBqm2JrwIABkMvlcHNzQ3p6OiwsLBAWFgZra2skJCTAwcEBAQEB8PDwgI6ODg4ePIgJEybA0tISWlpa8PDwwIIFC9TV/FKlp6cHPz8/PrihmHjdio/XrGR43YqP16xkeN2Kj9esZN6H6yYT4k3zFxARERERlS9qG05A9LqcnBw8e/ZM3c0gIiIiDcAQq4Het4nPe/fujVOnTiEyMrLAB1cQUfmxd+9eJCcnq7sZ9J47duwY4uLipNfHjx9HbGwsgJezG23atEldTaNygiG2DI0dOxZr1qx5q32kpKTA19cXfn5+pdQqzbJ9+3a0aNFC3c0odxwcHHDnzh0AwPTp07Fhw4Yibbdp0yaFMJKeno5atWq9gxaWP15eXjh48CCePHkCBwcHqfz06dMqbzB93YMHDz7IJ+0IITBu3DjpdVZWFjZv3qywbNmyBc+fKz4B8fvvv8ePP/6oUJaUlASZTIZHjx6VSdvVpXv37rCxsZGW1q1bY/ny5ahZsybs7OykclVu3779xrky31cBAQHS+xrw8lrk/+3btGmTdGM4AGRkZMDa2lpa6tevDx0dHVhbW8PMzAxGRkYK67/88suyPp0yFRQUhPj4+GJtY2Njg/T09HfUondDbTd2ve9GjRqFzMxMhbJ//vkH0dHRiIyMVCivVasWlixZorSP3NxcaGtrS69zcnLQu3dv+Pr6IjAwEP/++y9atWr1bk7gHQoICMDGjRul17du3ZIePnHixAnY29tL67788ktMnz5dev36NSmKx48fIyYmBg8ePMDt27dx8+ZN9OnTBz169Hi7E9EA+W/iAPDkyROMHTsWc+bMAfDyWs+ePRuffPKJGltY9s6dO4fg4GDs378fd+/eRWhoKO7evQsvLy+0a9cON27cwMWLFzFq1CikpKSgQYMGWLp0qdJ+hgwZAg8PD4waNQq5ubmIiYmBra2tGs6obOTm5qJx48Z4/vw5Hj9+DEdHR2RkZMDV1RWXLl1CzZo10bJlSwDAsmXLULduXXTq1Ena/ty5c3B0dFTYZ82aNSGTyfD48WNUq1atTM+nLP31118AgOrVq+PevXvQ0dHB8uXLMXLkSLi5uaFBgwbo2rWrym0zMzNRpUqVMmxt+RETEwNra2s8efIEXbt2RV5eHq5evYpLly7h1q1bqFWrFsLCwmBmZob9+/fj5s2b0rZPnjyBnZ0dbt68ibCwMPz+++/YvHmzGs+m7OTm5mLq1Km4evUqvLy8EBYWplSnb9++KnNHviVLlkidbvfu3YOJiQkqVqwIY2Nj/Pvvv++s7cXFEPuODBs2DLm5uQplcrkc1tbW6NOnj0J5xYoVpX9nZmbi5MmT+O2337Br1y4cO3YMzZo1w7Zt23Du3DmEhoaiZ8+eOHnyZLl+cENhvL294e3tLb3u3bu3FEwdHR1V/sLlK0mIvX79Ory8vFCvXj1YWVnh5MmTMDQ0fC9CbG5uLpo2bYq7d++ie/fu0NXVxcOHD1GhQgVkZmaicuXKuHbtGgBgzZo1uHfvHoCXPRpDhw7F+vXrYWJigtatW+PZs2cQQiAlJUWhVygoKAgdOnRQy/m9C61bt4aenh7Cw8Oxfft26OjoYMGCBTAxMUFubi4aNWoEX19f2NraYuHChSoDbEZGBvr164dFixbh7Nmz2LdvH9q2bYs//vhDDWdUNrS1tXHz5k2MGDECbdu2xbhx4zB27Fi0bdsWo0ePxuTJkzFnzhxERUXhjz/+UAiwwMs/hJaWlgplOjo6qFSpEtLS0sryVMqF3NxcPH/+HEOHDsWRI0eU1h89ehQXLlzA8ePHcevWLRw5cgRt27bFnDlzsH37dlStWhX79+9Xuqbvg4iICMyfPx83btzAkCFDYGBggPPnzwMA7O3tERERAXt7e4We2HzNmzdHXl4e8vLycP/+fdjZ2eHp06dIS0uDnZ0dsrOz4ebmpvL3+n1x/PhxNGnSBDVq1MDy5cuxfPnyAutu3rxZmunp9u3baNeuHbS0tNC3b1/pQ0GrVq2wd+/eQh8upS4Mse+Io6MjnJyckJGRIZXFxcXhv//+w/Hjx6UyMzMz7NmzBwDQp08fhIeHw9HREQ8ePICzs7PUs5OXl4eAgAAMGjQI//77L/T19cv2hErRlStXMHDgQOl1bGwsDA0NkZ6ejsjISLRp00Zat3btWrRu3Vp6XZIQ6+DggFOnTkmvd+/ejV69ekn7y8vLkx6FrGm0tbVx7do1ODg44Pfff0e9evUwffp02NjYYPjw4Zg5c6bSNnfv3kXXrl0xd+5cVKpUCVu3bsW5c+cAvBxOYG1tLQXf99V3330HmUym8HCVa9euoWPHjqhVqxYmTpwICwsLLFq0SGG7ZcuWYd68eahUqRKsrKyQk5ODvLw8nD59GmZmZoiLi0OtWrVQoUKFsj6lMpGamordu3dj2bJlyM3NxeHDhzF79myYmZmhSpUqCAgIwKZNm6Te/lfJ5XLUqFEDDx8+RI0aNaRyfX39D2pYxosXL/D333/j3r17aNiwIXr37o0dO3ZI6zdt2oR+/fph7dq10NXVhY2NDfbv349nz57BwcEBX375Jc6fP48RI0Zg7969RRr6omkcHBwwe/Zs+Pj44Ndff0WXLl0QGhqKefPmISYmBt26dUNycjLatGmDJ0+eKPTAPnjwAAkJCUhPT4ednR0uXbqk0BMbFhaG3bt3q+/kykBQUBDc3d3RvHlzpKamFlo3ISEBgwcPBvByOME///yDSpUqAQA8PT1x5swZxMTESH8z169frzD8St0YYt+h7du3q/yE/Sp3d3fp3/7+/qhbty7279+PlStX4vfff4eOzssfUdOmTdGkSROMGjVKaTiCpmnSpAnOnz+Pp0+f4tSpUxgzZgzMzc1x//59dO7cudR7Yl91+/ZtPHnyRPpa886dO3B2dsbdu3dLvM/y4ssvv4S+vj5u3bqF7777DgCQlpYmfSh4+PAhPD09YWpqip9++gkfffQR2rVrp9Ar/iGIjo5Gbm4udHV10bdvX/z777/o168f1qxZgzFjxqBz586YNGkSNm7ciIYNGypsO2nSJEyaNEl6vX37dvz444948uQJfvjhB6xfvx47duyAm5tbWZ9WmcjOzkafPn3QqVMntG/fHq1bt5bGa65ZswYNGjRAz5498emnnyptq62tjfT0dHTu3BkXL16Ugr6Ojg7y8vLK9DzKkhACV65cwcmTJ5GRkQEbGxs4OTnhxIkTCAsLg7OzM1JSUrB69WoAwA8//ABHR0ds27YNwMthP9u2bcPUqVPx448/onfv3gAAQ0NDaRjW+0ZfXx+JiYno0KEDcnNzUbt2bXzyySf45JNPYG9vj/DwcNjb2+Ps2bMqxxIPGzYMOTk5ePz4MQYPHozExETcvXtX+neDBg3UcFZlIy4uDtu2bYOzszMuXLhQpG2aNm0KIyMjxMXFwdnZGRkZGdi8eTNu376N3bt3S0PShg8fXu7GzDLEvkOXLl3CypUrMXfuXJXrx44dC3t7e+n5wE2bNsWjR48wZcoUnDhxQgqwwMtnCFeqVAl2dnbw9vaW3vA0TV5eHsaOHYvnz5+jdu3auHv3LiwtLaXnNkdERCi8KRkaGkq9hEDJQ2xaWhrOnTuHX3/9FVZWVjhz5gxatWqFx48fl8tnRpfEqz2x+UxMTHD27FkA/z+cQF9fHx9//DGmTZsGbW1tREVFYdasWdI2eXl5qFOnDuRyuTRk5dWbKzRdy5YtsXPnTnTs2BE7duxAbm4uTpw4gbi4OOjr62PcuHFo3Lgxrl27hmnTpiEzMxObN29GxYoVpT+MqampuHz5Mv755x9ERUWhWbNm6Nq1K0JCQt7bAAu8fGT4hg0bsHr1avzvf/9Do0aNEBUVhdq1a2PkyJFwd3fHxYsXMX36dEybNk1hLKeJiQlmzpyJESNGKPRUP3v2DAYGBuo4nTKRnZ2NYcOGoU2bNvj999/Rq1cv9O3bF926dUOzZs0AAM+fP4eOjg6qV6+Oxo0bo06dOtL2T548QXx8PEJDQ6UAC7wc61+zZs0yP5+yEh0djXbt2iE2NhZyuVz6MP56T+zdu3dhZ2eHLVu2oHnz5tKHVLlcjuPHj2PBggX466+/EBoaKn1tbmhoqM5Te6dmzZqFFy9eSK8nT56Mffv2KdXr06eP9E2TTCbDqVOnYG9vj5MnT2Ls2LHSPT19+vSRfl/j4uKkXtvygiH2HYuJiVH51Rrw8muP161btw4uLi6oW7euQrmenh5SUlLg7++P5s2bw97eHl999dW7aPI7paWlhbVr10Imk+HTTz9FeHg4IiMj8ccff6Bp06YICAjA6NGjC9y+sBArhEBWVpbCUIucnBx8//332LJlC9q0aYOQkBCMHDkSPj4+uHLlCmxtbWFlZVXq56kO+W82iYmJ8Pf3L7TumjVrsHjxYsyePVvl/887d+6gd+/e7/WwAjMzM1SrVg26uro4e/YsDAwMMHPmTNSvXx/x8fFYsGABqlSpgjFjxkjj1seMGYPQ0FDUrl0b9evXR5MmTeDt7Y1z585JN++8z/I/mEdERODff/9FTEwMQkNDsXXrVsyaNQtfffUV0tLS4OXlBVtbW9y8eVP6arJx48b4448/8L///U/aX1paGuRyebkca1daKlSoIH2QzDdv3jw8fPgQCQkJsLCwQMWKFXHjxg2lbdPS0uDt7Y1OnTopDH3JX/e+fABX5eTJk/jqq6+we/duDB06FNOmTQMAlT2xly5dwunTp6UeQ+Dlh/GHDx+ia9euyMjIwNOnTxVuntPT08Ply5fL+rTeqTNnziAiIkLhZt3PP/8cbdu2Vapbr1496d9Pnz7Fjh07kJaWhj/++EOh02LPnj0KPbHlDUPsO9SjRw88fvwYLVq0wJo1a6SbYxYtWoT4+HiFcZr5Dhw4gG+++Uap/PHjxzAwMEDVqlURHBwMIyOjd97+dyX/KzBXV1fMnTsXtra28PT0RO/evaWvwbdu3YrGjRsrzb6Ql5cHLS3VM8OtXbsWkZGRCneg/u9//8ODBw9w7tw5bNu2DXK5HD/99BOAl2OBPv/8c+zfvx8jR46Ev7+/Rvds7NmzR6knNi0tTRq/9ODBAwwdOhTh4eEIDAyEl5cXAMW7UPPl5OQgKSkJ1tbWaN++PX777bcyO4+ycu3aNRgbG0u9DCkpKQBefhjK16dPH6m3DAB++eUX/PLLL0r76t27N1atWoUJEya841arT15eHmbOnAlnZ2csW7YMjx8/hrOzM548eYI///wTTZo0AQDcuHEDQUFBuH//vhRggZcfAHr06KHwITMiIgJmZmYwNTUt8/Mpa5mZmdDX18eJEydQuXJlHD16FGvWrEFoaCjy8vIwadIkTJ48WeFGLU9PT+Tl5an84P706VOF6/s+efbsGS5fvgwvLy+kp6fj+++/R2hoKObOnYv//vsP3bp1Q1JSEmxsbKRr0L59e4WxsfliY2NRtWpV6VuB9PT09/a6NW/eHPv27VO4kSs3Nxc5OTlKdV8dwjNhwgRERUXhzp07uHbtGnr06CF9G9CvXz/psbR37txhT+yH4OrVq/j666+l16mpqRg2bJj0nyI6Ohp169ZVuDv+t99+g6mpKR49eqRy1oELFy5IvRXdunV7tydQBmbNmoXBgwdj5cqVcHR0RFBQEBwcHDBgwADY2tri6NGjmDdvntJNbJUrV8aTJ0+U9hcREYGpU6cqDdgPCgpCXFwcXrx4gdmzZ2P//v3SuipVquDmzZs4ceIEVq5ciWXLlklfN70PMjIyYGBgIL3p5I+l7tq1K6KiovDzzz8jPT0dU6ZMQb9+/bBr1y5MmTIFwMtA5+DgoPKPwvtk2LBh0nCe/LHYrw4HeLVnJ19oaCiWLVuG5ORkZGdnS1NPTZkyBU5OTgqh932ipaWF3bt3Y86cOYiNjcUPP/yAHj16IDMzE/3798eZM2dQoUIFeHl5wdnZWfpAmq9NmzYKN20+f/4cc+bMUbjJ833Wq1cvTJs2DXv27IGNjQ2+++47abaUjh07Ijs7G/369UNkZCT09fUREBCA6Oho/PDDDyo/OGVmZkpfi48fPx4BAQFS2NB0z549w7Jly6Cvr4+BAwfC0NAQnTp1wp07dxAdHY3w8HA0a9YMZmZmSl+VBwUFwdHREQEBARg4cCBCQkJw584d7N69G0+fPoWNjQ02b978XvwdfZ2enh7s7OwUykaNGqWyro6ODi5dugQA8PHxwYgRI2BgYIBHjx5hyZIl0s3Ou3btYk/sh6Zu3bqFzr+mSv6nxEaNGuHEiRNK0z/9/PPP6NevX6m1UZ2ePHmClStXYurUqXjy5AmeP3+Opk2bYs2aNTAyMsLp06cxZswYnDhxAgEBAfD19ZW27dixIzw9PbFz50707t0biYmJCAoKQmBgINauXYvu3bsrHKtq1ao4ffo0AgMDMXDgQIUHJUydOhXOzs7o0KEDOnTooJE3l5w4cQKenp4AoPR/5uDBg9Kd9sDLN6179+5BJpNJwS1f1apVsX79elSrVk3a34dAT09P+pCU/6b96oem12etiImJwddff41jx44pDEO5fv06du7cqTBd3vsoOTkZixcvVuhxnjhxIs6cOYP//vsPmZmZmDdvHgYMGAB7e3uVN3gBL3tr82++mT17dlk1X21u3ryJ6OhodOvWTZqNpmLFiti8eTMaNWqEVatWYcCAATh16hRmz56NRYsW4d69e9i4cSPkcrnK9yZjY2NcuXIFQUFBOH78OHJyct6bEFuzZk14enpi9OjRGDFiBKZNm4aAgADs3LlTCmna2tr47LPP4Orqii1btqBWrVp49OgRJk2ahCtXruDu3bt4+vQpFixYgGbNmuHUqVPStwmffvop/vnnH6UbN99Hd+7cUZqzHoDCPTcRERHIyMiApaUlDAwM4O7ujtDQUADAxx9/LH1blZiYWO56YiHonfH39xdmZmaiffv2Kpfq1auL4OBghW0iIyOFoaGhCAoKEmlpaSI+Pl6MHj1aWFpairS0NDWdSekaP368GDZsmBBCiMGDB4uffvpJWpeXlyeGDx8uli9fLvbv3y+qVKkiMjIyFLbftm2bsLKyEjKZTOjr6wt3d3fx77//qjzW77//LipXriw8PT1Fdna2EEKIrKws4e3tLRo0aCDu3bv3bk6yjG3fvl0EBgaKZ8+eiW7duonbt2+LvXv3il69ekl1fvrpJ+Hn5ye9Xrx4scLr8+fPi06dOom8vDzx8OFD0aBBgzI8g7KVm5srhg8fLrp06SItjo6OwtHRUXTp0kW0atVKdOnSRbRs2VK0adNG2i4hIUGYmJiIn3/+Wdy6dUukp6eL3NxckZeXJ3Jzc9V4RmVj6NChYujQoUIIIfr37y8CAgKkdbm5uWLYsGEiICBAhISECEtLS5GVlaW0j02bNgldXV0xcOBAkZqaWlZNVys3Nzfh7e0thBBi7NixYu7cudK658+fCwcHB7F7925x9uxZYWRkJB49eiSt37t3r3ByclLaZ2BgoDAyMhJ9+/Z9b97HXhUSEiLs7OzEixcvxOXLl4WVlZU4f/68aNGihXj8+LGoW7euEEKIH374QVhYWAi5XC4GDx4sRo4cKYR4ec3/+OMPIYQQDx8+FNnZ2cLFxUVs375d+Pj4iNatW4u8vDx1nd47NXLkSBEUFCSEEEJPT09lHW1tbSGEEBcvXhSWlpbi5s2bonHjxuLp06di7dq1Qggh0tLSxIABA8Tjx4/F5MmTlfJKecAQ+w75+/uLadOmFbh+0KBBKv9T/P7778LKykoAEDo6OsLFxUXcuHHjXTa1TC1cuFAkJCQIIYQICgoS1atXF1WrVhXVq1cXlStXFk2aNBG3bt0SQghx+fLlAveTmZlZouAQEREhevXqJbVB0126dEmYmpqK6OhoIYQQwcHBokOHDsLT01MsWLBAvHjxQgghxMqVK8WcOXOk7V4PsUIIce/ePZGYmCiuXr0qrK2ty+oUytyQIUPEunXrREpKimjVqpUQQoivv/5aLF26VNy5c0c0adJEJCQkiHXr1glPT0+FbaOiosTnn38urKyshL6+vgAgAIgFCxao41TKTG5urhgzZoxITk4WQrz8UFS1alVRrVo1UbVqVWFkZCQaN24sYmJihBBCqve6Fy9eSHU+BHl5eWLy5MlSYN+yZYuoWrWqqFixojAyMhJVqlQRTk5OQi6XCyGUr9uTJ0/EtWvXyrzd6pSVlSWcnJzE7du3hRBCZGRkiKioKCGEUAqxQggRHx8vMjMzxSeffCJSUlKEEEIsWbJEVKlSRZiYmAgTExNhaGgoWrRoIe7fvy+ysrLE8ePHy/q0ysyrIVYmk4mmTZsqLfkhdsuWLVLYzw+xQggRFxcnHBwcxKxZs4QQQty6dUs0bNhQLF26tOxPqBAMse+Qv7+/qFmzpmjRooXKpUqVKoV+spHL5SInJ6cMW0yaqGPHjkr/j86fPy9q1KghEhMTRUBAgKhSpYowNjYWoaGhUh1VIfbIkSPCyspKmJqainHjxpVF88tcTEyMsLa2lr7ZaNmypUhISBDXr18X/v7+Qgghrly5Ijp27Chq1aoljh07Vuj+cnNzVfY4EhGpQ3F6Yl/1aoh1dHQUy5cvV1gfFxcnvvzyS/H8+fPSbfBbkAnxyq24RKRx8u96ft29e/dQq1YtNbSo/Ctslgsiog/d2z5YqKwwxBIRERGRxmFXBBERERFpHIZYIiIiItI4DLFEREREpHEYYomIiIhI4zDEEhEREZHGYYglIiIiIo3DEEtEREREGochloiIiIg0DkMsEZEade3aFQsXLsTQoUNhaWkJCwsL/PLLLwAAIQQWLVqE+vXro3bt2ujduzfi4+MVtp09eza6du2KGjVqoGvXrkhISMDAgQNRu3ZttGrVChcuXJDq5+bmwt/fH9bW1rCwsECfPn1w9+7dMj9nIqLSwBBLRKRm/v7+GDBgAOLj47FixQpMmDABqampOHr0KH755RccP34cCQkJMDIywqRJkxS2XbduHQIDA5GUlIScnBy0atUK7u7uSE5ORrdu3TBmzBip7vTp07FhwwYcOXIE8fHxsLOzQ9++fZGbm1vWp0xE9NYYYomI1MzDwwMuLi4AAHd3d2RlZSEmJgbdu3fHpUuXYGFhAW1tbQwePBjnz59X2HbgwIGws7ODrq4uunTpAlNTUwwYMAAA0KtXL0RHRwMAXrx4gdWrV2P+/PmoV68eZDIZ5s+fj/j4eJw4caJMz5eIqDToqLsBREQfOnNzc+nfFSpUAABkZmbi/v37mDt3Lo4dO4anT5/ixYsX0NfXV9jW2NhY+reuri6qVaumsK+srCwAQGpqKjIyMuDt7Y2pU6cq7OPOnTulfUpERO8cQywRUTk1fPhwaGtr49ChQzA3N8eBAwcwbty4Eu3L1NQUlSpVwpYtW+Dk5FTKLSUiKnscTkBEVE7J5XI0bNgQ5ubmePjwIX788UdkZGSUaF8ymQxeXl6YNGkSbt26BQC4f/8+PDw8cPXq1dJsNhFRmWBPLBFRObVq1SqMGjUKtWvXhrm5OQICAuDq6op79+6hVq1axd6fn58fjIyM4OLigmfPnsHExAQTJ06Era3tO2g9EdG7JRNCCHU3goiIiIioODicgIiIiIg0DkMsEREREWkchlgiIiIi0jgMsURERESkcRhiiYiIiEjjMMQSERERkcZhiCUiIiIijcMQS0REREQahyGWiIiIiDQOQywRERERaRyGWCIiIiLSOAyxRERERKRx/g+4PjMzAdLXlAAAAABJRU5ErkJggg==",
      "text/plain": [
       "<Figure size 800x300 with 1 Axes>"
      ]
     },
     "metadata": {},
     "output_type": "display_data"
    }
   ],
   "source": [
    "analyze_emotion('今日から長期休暇だぁーーー！！！', show_fig=True)"
   ]
  },
  {
   "cell_type": "code",
   "execution_count": 55,
   "metadata": {},
   "outputs": [
    {
     "data": {
      "image/png": "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",
      "text/plain": [
       "<Figure size 800x300 with 1 Axes>"
      ]
     },
     "metadata": {},
     "output_type": "display_data"
    }
   ],
   "source": [
    "analyze_emotion('この書類にはコーヒーかかってなくて良かった…。不幸中の幸いだ。', show_fig=True)"
   ]
  },
  {
   "cell_type": "code",
   "execution_count": 56,
   "metadata": {},
   "outputs": [
    {
     "data": {
      "image/png": "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",
      "text/plain": [
       "<Figure size 800x300 with 1 Axes>"
      ]
     },
     "metadata": {},
     "output_type": "display_data"
    }
   ],
   "source": [
    "\n",
    "analyze_emotion('なんで自分だけこんな目に遭うんだ……', show_fig=True)"
   ]
  },
  {
   "cell_type": "code",
   "execution_count": 57,
   "metadata": {},
   "outputs": [
    {
     "data": {
      "image/png": "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",
      "text/plain": [
       "<Figure size 800x300 with 1 Axes>"
      ]
     },
     "metadata": {},
     "output_type": "display_data"
    }
   ],
   "source": [
    "analyze_emotion('君ならきっとやってくれると思っていたよ！', show_fig=True)"
   ]
  },
  {
   "cell_type": "code",
   "execution_count": 58,
   "metadata": {},
   "outputs": [
    {
     "data": {
      "image/png": "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",
      "text/plain": [
       "<Figure size 800x300 with 1 Axes>"
      ]
     },
     "metadata": {},
     "output_type": "display_data"
    }
   ],
   "source": [
    "analyze_emotion('え、今日って休校だったの？', show_fig=True)"
   ]
  },
  {
   "cell_type": "code",
   "execution_count": 59,
   "metadata": {},
   "outputs": [
    {
     "data": {
      "image/png": "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",
      "text/plain": [
       "<Figure size 800x300 with 1 Axes>"
      ]
     },
     "metadata": {},
     "output_type": "display_data"
    }
   ],
   "source": [
    "analyze_emotion('明日のプレゼンうまくできるかなぁ…', show_fig=True)"
   ]
  },
  {
   "cell_type": "code",
   "execution_count": 60,
   "metadata": {},
   "outputs": [
    {
     "data": {
      "image/png": "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",
      "text/plain": [
       "<Figure size 800x300 with 1 Axes>"
      ]
     },
     "metadata": {},
     "output_type": "display_data"
    }
   ],
   "source": [
    "analyze_emotion('あぁー、イライラするっ！！', show_fig=True)"
   ]
  }
 ],
 "metadata": {
  "kernelspec": {
   "display_name": "Python 3.8.10 64-bit",
   "language": "python",
   "name": "python3"
  },
  "language_info": {
   "codemirror_mode": {
    "name": "ipython",
    "version": 3
   },
   "file_extension": ".py",
   "mimetype": "text/x-python",
   "name": "python",
   "nbconvert_exporter": "python",
   "pygments_lexer": "ipython3",
   "version": "3.11.3"
  },
  "orig_nbformat": 4,
  "vscode": {
   "interpreter": {
    "hash": "916dbcbb3f70747c44a77c7bcd40155683ae19c65e1c03b4aa3499c5328201f1"
   }
  }
 },
 "nbformat": 4,
 "nbformat_minor": 2
}
>>>>>>> Stashed changes
