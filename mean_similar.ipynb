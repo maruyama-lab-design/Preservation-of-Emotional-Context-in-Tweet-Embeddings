{
 "cells": [
  {
   "cell_type": "code",
   "execution_count": 1,
   "metadata": {},
   "outputs": [],
   "source": [
    "import pandas as pd\n",
    "import itertools\n",
    "from sklearn.metrics.pairwise import cosine_similarity\n",
    "import os"
   ]
  },
  {
   "cell_type": "code",
   "execution_count": null,
   "metadata": {},
   "outputs": [],
   "source": [
    "# Read the data\n",
    "df_wrime = pd.read_table('wrime-ver1.tsv')\n",
    "\n",
    "# Plutchik's eight primary emotions\n",
    "emotion_names = ['Joy', 'Sadness', 'Anticipation', 'Surprise', 'Anger', 'Fear', 'Disgust', 'Trust']\n",
    "df_wrime['readers_emotion_intensities'] = df_wrime.apply(lambda x: [x['Avg. Readers_' + name] for name in emotion_names], axis=1)\n",
    "is_target = df_wrime['readers_emotion_intensities'].map(lambda x: max(x) >= 2)\n",
    "df_wrime_target = df_wrime[is_target]\n",
    "# reindex\n",
    "df_wrime_target = df_wrime_target.reset_index(drop=True)\n",
    "# get the sentences\n",
    "sentences = df_wrime_target['Sentence'].tolist()\n",
    "\n",
    "# replace '\\n' with ''\n",
    "sentences = [sentence.replace('\\\\n', ' ') for sentence in sentences]\n",
    "# replace 'x000D' with ''\n",
    "sentences = [sentence.replace('x000D', ' ') for sentence in sentences]"
   ]
  },
  {
   "cell_type": "code",
   "execution_count": 2,
   "metadata": {},
   "outputs": [],
   "source": [
    "# Get only hard labeled data\n",
    "emotion_flags = []\n",
    "\n",
    "for label in emotion_names:\n",
    "    is_target_emotion = df_wrime_target['readers_emotion_intensities'].apply(lambda x: x[emotion_names.index(label)] == 3 and sum(x) == 3)\n",
    "    emotion_flags.append(is_target_emotion)"
   ]
  },
  {
   "cell_type": "code",
   "execution_count": null,
   "metadata": {},
   "outputs": [],
   "source": [
    "df_embeddings = pd.read_table('embeddings/fine-tuned_embeddings.tsv', header=None)"
   ]
  },
  {
   "cell_type": "code",
   "execution_count": null,
   "metadata": {},
   "outputs": [],
   "source": [
    "if not os.path.exists('mean_similar'):\n",
    "    os.makedirs('mean_similar')\n",
    "\n",
    "combinations = list(itertools.combinations(range(len(emotion_flags)), 2))\n",
    "\n",
    "for combination in combinations:\n",
    "    emotion_flag1 = emotion_flags[combination[0]]\n",
    "    emotion_flag2 = emotion_flags[combination[1]]\n",
    "    emotion_name1 = emotion_names[combination[0]]\n",
    "    emotion_name2 = emotion_names[combination[1]]\n",
    "\n",
    "    with open(f'mean_similar/{emotion_name1}_{emotion_name2}.txt', 'w') as file:\n",
    "        for s in range(len(df_wrime_target[emotion_flag1])):\n",
    "            for t in range(len(df_wrime_target[emotion_flag2])):\n",
    "                mean_vector = (df_embeddings.iloc[df_wrime_target[emotion_flag1].index[s], :] + df_embeddings.iloc[df_wrime_target[emotion_flag2].index[t], :]) / 2\n",
    "                df_mean_vector = pd.DataFrame(mean_vector).T\n",
    "\n",
    "                df_wrime_target['similarity'] = cosine_similarity(df_mean_vector, df_embeddings)[0]\n",
    "                best3_similarity_sentence = df_wrime_target.sort_values('similarity', ascending=False)[['Sentence', 'similarity']].head(10)\n",
    "\n",
    "                file.write('\\n')\n",
    "                file.write(f'target sentence 1: {sentences[df_wrime_target[emotion_flag1].index[s]]} {df_wrime_target.loc[df_wrime_target[emotion_flag1].index[s], \"readers_emotion_intensities\"]}\\n')\n",
    "                file.write(f'target sentence 2: {sentences[df_wrime_target[emotion_flag2].index[t]]} {df_wrime_target.loc[df_wrime_target[emotion_flag2].index[t], \"readers_emotion_intensities\"]}\\n')\n",
    "                file.write('---\\n')\n",
    "\n",
    "                for i, row in best3_similarity_sentence.iterrows():\n",
    "                    file.write(f'sentence: {row[\"Sentence\"]}\\n')\n",
    "                    file.write(f'intensities: {df_wrime_target.loc[i, \"readers_emotion_intensities\"]}\\n')\n",
    "                    file.write(f'similarity: {row[\"similarity\"]}\\n')\n",
    "                    file.write('---\\n')"
   ]
  }
 ],
 "metadata": {
  "kernelspec": {
   "display_name": "deeplearning",
   "language": "python",
   "name": "python3"
  },
  "language_info": {
   "codemirror_mode": {
    "name": "ipython",
    "version": 3
   },
   "file_extension": ".py",
   "mimetype": "text/x-python",
   "name": "python",
   "nbconvert_exporter": "python",
   "pygments_lexer": "ipython3",
   "version": "3.10.9"
  }
 },
 "nbformat": 4,
 "nbformat_minor": 2
}
